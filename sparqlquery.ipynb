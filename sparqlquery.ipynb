{
 "cells": [
  {
   "cell_type": "markdown",
   "metadata": {},
   "source": [
    "# Example from rdflib\n",
    "\n",
    "From [rdflib github repo examples folder](https://github.com/RDFLib/rdflib)"
   ]
  },
  {
   "cell_type": "code",
   "execution_count": 5,
   "metadata": {},
   "outputs": [],
   "source": [
    "\n",
    "\n",
    "\"\"\"\n",
    "\n",
    "SPARQL Query using :meth:`rdflib.graph.Graph.query`\n",
    "\n",
    "The method returns a :class:`~rdflib.query.Result`, iterating over\n",
    "this yields :class:`~rdflib.query.ResultRow` objects\n",
    "\n",
    "The variable bindings can be access as attributes of the row objects\n",
    "For variable names that are not valid python identifiers, dict access\n",
    "(i.e. with ``row[var] / __getitem__``) is also possible.\n",
    "\n",
    ":attr:`~rdflib.query.ResultRow.vars` contains the variables\n",
    "\n",
    "\"\"\"\n",
    "\n",
    "import rdflib\n",
    "\n",
    "\n"
   ]
  },
  {
   "cell_type": "code",
   "execution_count": 7,
   "metadata": {},
   "outputs": [
    {
     "name": "stdout",
     "output_type": "stream",
     "text": [
      "http://rit.mellon.org/Members/ihf/foaf.rdf#me\n",
      "http://www.kjetil.kjernsmo.net/foaf#me\n",
      "http://www.w3.org/People/Jacobs/contact.rdf#IanJacobs\n",
      "http://my.opera.com/howcome/xml/foaf#howcome\n",
      "http://people.csail.mit.edu/lkagal/foaf#me\n",
      "http://users.ecs.soton.ac.uk/mc/mcfoaf.rdf#me\n",
      "http://eikeon.com/foaf.rdf#eikeon\n",
      "http://dbpedia.org/resource/John_Seely_Brown\n",
      "http://dbpedia.org/resource/Tim_Bray\n",
      "http://dig.csail.mit.edu/People/RRS\n",
      "http://www.w3.org/People/EM/contact#me\n",
      "http://dbpedia.org/resource/John_Gage\n",
      "http://people.w3.org/simon/foaf#i\n",
      "http://www.w3.org/People/Berners-Lee/card#amy\n",
      "http://people.csail.mit.edu/crowell/foaf.rdf#crowell\n",
      "http://dig.csail.mit.edu/2008/webdav/timbl/foaf.rdf#edd\n",
      "http://danbri.org/foaf#danbri\n",
      "http://norman.walsh.name/knows/who#norman-walsh\n",
      "http://presbrey.mit.edu/foaf.rdf#presbrey\n",
      "http://my.opera.com/chaals/xml/foaf#me\n",
      "http://dig.csail.mit.edu/2008/webdav/timbl/foaf.rdf#libby\n",
      "http://hometown.aol.com/chbussler/foaf/chbussler.foaf#me\n",
      "http://bblfish.net/people/henry/card#me\n",
      "http://web.mit.edu/ruthdhan/www/foaf.rdf#ruthdhan\n",
      "Ndce2193559c4478e9e27a193c677efe7\n",
      "http://web.mit.edu/shinnyih/foaf.rdf#\n",
      "http://dig.csail.mit.edu/2007/wiki/people/JoeLambda#JL\n",
      "http://heddley.com/edd/foaf.rdf#edd\n",
      "http://dig.csail.mit.edu/2008/webdav/timbl/foaf.rdf#cm\n",
      "http://dbpedia.org/resource/John_Klensin\n",
      "http://teole.jfouffa.org/People/Teole/card.rdf#me\n",
      "http://www.aaronsw.com/about.xrdf#aaronsw\n",
      "http://www.cambridgesemantics.com/people/about/lee\n",
      "http://www.mindswap.org/2004/owl/mindswappers#Bijan.Parsia\n",
      "http://myopenlink.net/dataspace/person/kidehen#this\n",
      "http://id.ecs.soton.ac.uk/person/1269\n",
      "http://id.ecs.soton.ac.uk/person/2686\n",
      "http://qdos.com/people/tom.xrdf#me\n",
      "http://inamidst.com/sbp/foaf#Sean\n",
      "http://www.dajobe.org/foaf.rdf#i\n",
      "http://dig.csail.mit.edu/2008/webdav/timbl/foaf.rdf#ss\n",
      "http://people.csail.mit.edu/psz/foaf.rdf#me\n",
      "http://www.lassila.org/ora.rdf#me\n",
      "http://research.microsoft.com/~henrikn/foaf.xml#me\n",
      "http://www.cs.umd.edu/~hendler/2003/foaf.rdf#jhendler\n",
      "http://dbpedia.org/resource/John_Markoff\n",
      "http://www.w3.org/People/karl/karl-foaf.xrdf#me\n",
      "http://id.ecs.soton.ac.uk/person/1650\n",
      "http://dig.csail.mit.edu/People/yosi#YES\n",
      "http://people.apache.org/~oshani/foaf.rdf#me\n",
      "http://people.csail.mit.edu/ryanlee/about#ryanlee\n",
      "http://id.ecs.soton.ac.uk/person/60\n",
      "http://www.w3.org/People/Connolly/#me\n",
      "http://www.ivan-herman.net/foaf.rdf#me\n",
      "http://www.mindswap.org/2004/owl/mindswappers#Jennifer.Golbeck\n",
      "http://www.isi.edu/~gil/foaf.rdf#me\n",
      "http://dig.csail.mit.edu/2007/wiki/people/RobertHoffmann#RMH\n",
      "http://www.w3.org/People/djweitzner/foaf#DJW\n"
     ]
    }
   ],
   "source": [
    "g = rdflib.Graph()\n",
    "g.load(\"foaf.rdf\")\n",
    "\n",
    "# the QueryProcessor knows the FOAF prefix from the graph\n",
    "# which in turn knows it from reading the RDF/XML file\n",
    "for row in g.query(\n",
    "    'select ?s where { [] foaf:knows ?s .}'):\n",
    "    print(row.s)\n",
    "    # or row[\"s\"]\n",
    "    # or row[rdflib.Variable(\"s\")]"
   ]
  },
  {
   "cell_type": "code",
   "execution_count": null,
   "metadata": {},
   "outputs": [],
   "source": []
  }
 ],
 "metadata": {
  "kernelspec": {
   "display_name": "Python 3",
   "language": "python",
   "name": "python3"
  },
  "language_info": {
   "codemirror_mode": {
    "name": "ipython",
    "version": 3
   },
   "file_extension": ".py",
   "mimetype": "text/x-python",
   "name": "python",
   "nbconvert_exporter": "python",
   "pygments_lexer": "ipython3",
   "version": "3.7.3"
  }
 },
 "nbformat": 4,
 "nbformat_minor": 2
}
