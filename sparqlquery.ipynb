{
 "cells": [
  {
   "cell_type": "markdown",
   "metadata": {},
   "source": [
    "# Example from rdflib\n",
    "\n",
    "From [rdflib github repo examples folder](https://github.com/RDFLib/rdflib)"
   ]
  },
  {
   "cell_type": "code",
   "execution_count": 1,
   "metadata": {},
   "outputs": [],
   "source": [
    "\n",
    "\n",
    "\"\"\"\n",
    "\n",
    "SPARQL Query using :meth:`rdflib.graph.Graph.query`\n",
    "\n",
    "The method returns a :class:`~rdflib.query.Result`, iterating over\n",
    "this yields :class:`~rdflib.query.ResultRow` objects\n",
    "\n",
    "The variable bindings can be access as attributes of the row objects\n",
    "For variable names that are not valid python identifiers, dict access\n",
    "(i.e. with ``row[var] / __getitem__``) is also possible.\n",
    "\n",
    ":attr:`~rdflib.query.ResultRow.vars` contains the variables\n",
    "\n",
    "\"\"\"\n",
    "\n",
    "import rdflib\n",
    "\n",
    "\n"
   ]
  },
  {
   "cell_type": "code",
   "execution_count": 2,
   "metadata": {},
   "outputs": [
    {
     "name": "stdout",
     "output_type": "stream",
     "text": [
      "mailto:connolly@w3.org\n",
      "mailto:dino@grorg.org\n",
      "mailto:dean@w3.org\n",
      "mailto:edd@xml.com\n",
      "mailto:edd@usefulinc.com\n",
      "mailto:amy@w3.org\n",
      "mailto:karl@w3.org\n",
      "mailto:me@aaronsw.com\n",
      "mailto:em@w3.org\n",
      "mailto:libby.miller@bristol.ac.uk\n",
      "mailto:edd@xmlhack.com\n"
     ]
    }
   ],
   "source": [
    "g = rdflib.Graph()\n",
    "g.load(\"foaf.rdf\")\n",
    "\n",
    "# the QueryProcessor knows the FOAF prefix from the graph\n",
    "# which in turn knows it from reading the RDF/XML file\n",
    "for row in g.query(\n",
    "    #'select ?s where { [] foaf:knows ?s .}'):\n",
    "    'select ?s where { [] foaf:mbox ?s .}'):\n",
    "    print(row.s)\n",
    "    # or row[\"s\"]\n",
    "    # or row[rdflib.Variable(\"s\")]"
   ]
  },
  {
   "cell_type": "code",
   "execution_count": null,
   "metadata": {},
   "outputs": [],
   "source": []
  }
 ],
 "metadata": {
  "kernelspec": {
   "display_name": "Python 3",
   "language": "python",
   "name": "python3"
  },
  "language_info": {
   "codemirror_mode": {
    "name": "ipython",
    "version": 3
   },
   "file_extension": ".py",
   "mimetype": "text/x-python",
   "name": "python",
   "nbconvert_exporter": "python",
   "pygments_lexer": "ipython3",
   "version": "3.7.3"
  }
 },
 "nbformat": 4,
 "nbformat_minor": 2
}
