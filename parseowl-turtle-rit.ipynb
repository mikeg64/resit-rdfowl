{
 "cells": [
  {
   "cell_type": "code",
   "execution_count": null,
   "metadata": {},
   "outputs": [],
   "source": []
  },
  {
   "cell_type": "code",
   "execution_count": 1,
   "metadata": {},
   "outputs": [],
   "source": [
    "import rdflib\n",
    "import sys\n",
    "import os\n",
    "\n",
    "\n",
    "\n",
    "import owlrl"
   ]
  },
  {
   "cell_type": "code",
   "execution_count": 2,
   "metadata": {},
   "outputs": [
    {
     "name": "stderr",
     "output_type": "stream",
     "text": [
      "<https://github.com/mikeg64/resit-rdfowl/blob/master/resit does not look like a valid URI, trying to serialize this will break.\n",
      "https://github.com/mikeg64/resit-rdfowl/blob/master/resit\n",
      "\n",
      "\n",
      "\n",
      "\n",
      "\n",
      "#################################################################\n",
      "#    Object Properties\n",
      "#################################################################\n",
      "\n",
      "###  https://github.com/mikeg64/resit-rdfowl/blob/master/resit#isa\n",
      "<https://github.com/mikeg64/resit-rdfowl/blob/master/resit#isa does not look like a valid URI, trying to serialize this will break.\n"
     ]
    }
   ],
   "source": [
    "g = rdflib.Graph()\n",
    "try:\n",
    "    g.parse('resit.ttl', format='turtle')\n",
    "except FileNotFoundError:\n",
    "    # This test might be run from the parent directory root\n",
    "    print('file not found trying something else!')\n",
    "    g.parse('resit-rdfowl/resit.ttl', format='turtle')"
   ]
  },
  {
   "cell_type": "code",
   "execution_count": 3,
   "metadata": {},
   "outputs": [
    {
     "name": "stdout",
     "output_type": "stream",
     "text": [
      "b'<?xml version=\"1.0\" encoding=\"UTF-8\"?>\\n<rdf:RDF\\n   xmlns:rdf=\"http://www.w3.org/1999/02/22-rdf-syntax-ns#\"\\n   xmlns:rdfs=\"http://www.w3.org/2000/01/rdf-schema#\"\\n>\\n  <rdf:Description rdf:about=\"https://github.com/mikeg64/resit-rdfowl/blob/master/resit#iceberg\">\\n    <rdf:type rdf:resource=\"https://github.com/mikeg64/resit-rdfowl/blob/master/resit\"/>\\n    <rdfs:label>iceberg</rdfs:label>\\n    <rdf:type rdf:resource=\"http://www.w3.org/2002/07/owl#NamedIndividual\"/>\\n  </rdf:Description>\\n  <rdf:Description rdf:about=\"https://github.com/mikeg64/resit-rdfowl/blob/master/resit&#10;&#10;&#10;&#10;&#10;&#10;#################################################################&#10;#    Object Properties&#10;#################################################################&#10;&#10;###  https://github.com/mikeg64/resit-rdfowl/blob/master/resit#isa&#10;&lt;https://github.com/mikeg64/resit-rdfowl/blob/master/resit#isa\">\\n    <rdf:type rdf:resource=\"http://www.w3.org/2002/07/owl#ObjectProperty\"/>\\n    <rdfs:subPropertyOf rdf:resource=\"http://www.w3.org/2002/07/owl#topObjectProperty\"/>\\n    <rdfs:label>isa</rdfs:label>\\n  </rdf:Description>\\n  <rdf:Description rdf:about=\"https://github.com/mikeg64/resit-rdfowl/blob/master/resit#researchsoftware\">\\n    <rdf:type rdf:resource=\"http://www.w3.org/2002/07/owl#Class\"/>\\n    <rdfs:subClassOf rdf:resource=\"https://github.com/mikeg64/resit-rdfowl/blob/master/resit\"/>\\n    <rdfs:label>researchsoftware</rdfs:label>\\n  </rdf:Description>\\n  <rdf:Description rdf:about=\"&lt;https://github.com/mikeg64/resit-rdfowl/blob/master/resit\">\\n    <rdf:type rdf:resource=\"http://www.w3.org/2002/07/owl#Ontology\"/>\\n  </rdf:Description>\\n  <rdf:Description rdf:about=\"https://github.com/mikeg64/resit-rdfowl/blob/master/resit#Aaron\">\\n    <rdf:type rdf:resource=\"http://www.w3.org/2002/07/owl#NamedIndividual\"/>\\n  </rdf:Description>\\n</rdf:RDF>\\n'\n"
     ]
    }
   ],
   "source": [
    "#print Grapher.serialize(format='application/rdf+xml')\n",
    "s = g.serialize(format='xml')\n",
    "print(s)"
   ]
  },
  {
   "cell_type": "code",
   "execution_count": 4,
   "metadata": {},
   "outputs": [],
   "source": [
    "file = open('resitfile.rdf','wb') \n",
    "ss=str(s)\n",
    "file.write(s) \n",
    "\n",
    " \n",
    "file.close() "
   ]
  },
  {
   "cell_type": "code",
   "execution_count": 6,
   "metadata": {},
   "outputs": [
    {
     "name": "stdout",
     "output_type": "stream",
     "text": [
      "15\n",
      "<rdflib.plugins.sparql.processor.SPARQLResult object at 0x7f5cfd00ba58>\n"
     ]
    }
   ],
   "source": [
    "# run a simple SPARQL query against it, no inferencing, should find 15 results\n",
    "q = '''\n",
    "    PREFIX : <https://github.com/mikeg64/resit-rdfowl/blob/master/resit#>\n",
    "    SELECT (COUNT(?s) AS ?cnt)\n",
    "    WHERE {\n",
    "        ?s a :Person .\n",
    "    }\n",
    "    '''\n",
    "for r in g.query(q):\n",
    "    cnt = int(r[0])\n",
    "    print(cnt)\n",
    "print(g.query(q))"
   ]
  },
  {
   "cell_type": "code",
   "execution_count": null,
   "metadata": {},
   "outputs": [],
   "source": []
  }
 ],
 "metadata": {
  "kernelspec": {
   "display_name": "Python 3",
   "language": "python",
   "name": "python3"
  },
  "language_info": {
   "codemirror_mode": {
    "name": "ipython",
    "version": 3
   },
   "file_extension": ".py",
   "mimetype": "text/x-python",
   "name": "python",
   "nbconvert_exporter": "python",
   "pygments_lexer": "ipython3",
   "version": "3.7.3"
  }
 },
 "nbformat": 4,
 "nbformat_minor": 2
}
