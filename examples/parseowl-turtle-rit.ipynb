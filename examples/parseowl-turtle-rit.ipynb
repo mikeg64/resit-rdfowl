{
 "cells": [
  {
   "cell_type": "code",
   "execution_count": null,
   "metadata": {},
   "outputs": [],
   "source": []
  },
  {
   "cell_type": "code",
   "execution_count": 5,
   "metadata": {},
   "outputs": [],
   "source": [
    "import rdflib\n",
    "import sys\n",
    "import os\n",
    "\n",
    "\n",
    "\n",
    "import owlrl"
   ]
  },
  {
   "cell_type": "code",
   "execution_count": 7,
   "metadata": {},
   "outputs": [],
   "source": [
    "g = rdflib.Graph()\n",
    "try:\n",
    "    g.parse('resit.ttl', format='turtle')\n",
    "except FileNotFoundError:\n",
    "    # This test might be run from the parent directory root\n",
    "    print('file not found trying something else!')\n",
    "    g.parse('resit-rdfowl/resit.ttl', format='turtle')"
   ]
  },
  {
   "cell_type": "code",
   "execution_count": 8,
   "metadata": {},
   "outputs": [
    {
     "name": "stdout",
     "output_type": "stream",
     "text": [
      "b'<?xml version=\"1.0\" encoding=\"UTF-8\"?>\\n<rdf:RDF\\n   xmlns:rdf=\"http://www.w3.org/1999/02/22-rdf-syntax-ns#\"\\n   xmlns:rdfs=\"http://www.w3.org/2000/01/rdf-schema#\"\\n>\\n  <rdf:Description rdf:about=\"http://rcg.group.shef.ac.uk/resitowl/resit#iceberg\">\\n    <rdf:type rdf:resource=\"http://www.w3.org/2002/07/owl#NamedIndividual\"/>\\n    <rdfs:label>iceberg</rdfs:label>\\n    <rdf:type rdf:resource=\"http://rcg.group.shef.ac.uk/resitowl/resit\"/>\\n  </rdf:Description>\\n  <rdf:Description rdf:about=\"http://rcg.group.shef.ac.uk/resitowl/resit#service\">\\n    <rdfs:label>service</rdfs:label>\\n    <rdf:type rdf:resource=\"http://www.w3.org/2002/07/owl#Class\"/>\\n    <rdfs:subClassOf rdf:resource=\"http://rcg.group.shef.ac.uk/resitowl/resit\"/>\\n  </rdf:Description>\\n  <rdf:Description rdf:about=\"http://rcg.group.shef.ac.uk/resitowl/resit#feature\">\\n    <rdf:type rdf:resource=\"http://www.w3.org/2002/07/owl#Class\"/>\\n    <rdfs:subClassOf rdf:resource=\"http://rcg.group.shef.ac.uk/resitowl/resit\"/>\\n    <rdfs:label>feature</rdfs:label>\\n  </rdf:Description>\\n  <rdf:Description rdf:about=\"http://rcg.group.shef.ac.uk/resitowl/resit#hpcs\">\\n    <rdf:type rdf:resource=\"http://www.w3.org/2002/07/owl#NamedIndividual\"/>\\n    <rdfs:subClassOf rdf:resource=\"http://rcg.group.shef.ac.uk/resitowl/resit#service\"/>\\n    <rdfs:subClassOf rdf:resource=\"http://rcg.group.shef.ac.uk/resitowl/resit\"/>\\n    <rdf:type rdf:resource=\"http://rcg.group.shef.ac.uk/resitowl/resit\"/>\\n    <rdfs:label>hpcs</rdfs:label>\\n    <rdf:type rdf:resource=\"http://www.w3.org/2002/07/owl#Class\"/>\\n  </rdf:Description>\\n  <rdf:Description rdf:about=\"http://rcg.group.shef.ac.uk/resitowl/resit#researchsoftware\">\\n    <rdfs:subClassOf rdf:resource=\"http://rcg.group.shef.ac.uk/resitowl/resit\"/>\\n    <rdf:type rdf:resource=\"http://www.w3.org/2002/07/owl#Class\"/>\\n    <rdfs:subClassOf rdf:resource=\"http://rcg.group.shef.ac.uk/resitowl/resit#service\"/>\\n    <rdfs:label>researchsoftware</rdfs:label>\\n  </rdf:Description>\\n  <rdf:Description rdf:about=\"http://rcg.group.shef.ac.uk/resitowl/resit#system\">\\n    <rdf:type rdf:resource=\"http://www.w3.org/2002/07/owl#Class\"/>\\n    <rdfs:subClassOf rdf:resource=\"http://rcg.group.shef.ac.uk/resitowl/resit\"/>\\n    <rdfs:label>system</rdfs:label>\\n  </rdf:Description>\\n  <rdf:Description rdf:about=\"http://rcg.group.shef.ac.uk/resitowl/resit#project\">\\n    <rdfs:subClassOf rdf:resource=\"http://rcg.group.shef.ac.uk/resitowl/resit#feature\"/>\\n    <rdf:type rdf:resource=\"http://www.w3.org/2002/07/owl#Class\"/>\\n    <rdfs:subClassOf rdf:resource=\"http://rcg.group.shef.ac.uk/resitowl/resit\"/>\\n    <rdfs:label>project</rdfs:label>\\n  </rdf:Description>\\n  <rdf:Description rdf:about=\"http://rcg.group.shef.ac.uk/resitowl/resit#isa\">\\n    <rdfs:label>isa</rdfs:label>\\n    <rdf:type rdf:resource=\"http://www.w3.org/2002/07/owl#ObjectProperty\"/>\\n    <rdfs:subPropertyOf rdf:resource=\"http://www.w3.org/2002/07/owl#topObjectProperty\"/>\\n  </rdf:Description>\\n  <rdf:Description rdf:about=\"http://rcg.group.shef.ac.uk/resitowl/resit#group\">\\n    <rdfs:label>group</rdfs:label>\\n    <rdfs:subClassOf rdf:resource=\"http://rcg.group.shef.ac.uk/resitowl/resit#feature\"/>\\n    <rdfs:subClassOf rdf:resource=\"http://rcg.group.shef.ac.uk/resitowl/resit\"/>\\n    <rdf:type rdf:resource=\"http://www.w3.org/2002/07/owl#Class\"/>\\n  </rdf:Description>\\n  <rdf:Description rdf:about=\"http://rcg.group.shef.ac.uk/resitowl/resit#hpc\">\\n    <rdfs:subClassOf rdf:resource=\"http://rcg.group.shef.ac.uk/resitowl/resit#system\"/>\\n    <rdfs:subClassOf rdf:resource=\"http://rcg.group.shef.ac.uk/resitowl/resit\"/>\\n    <rdfs:label>hpc</rdfs:label>\\n    <rdf:type rdf:resource=\"http://www.w3.org/2002/07/owl#Class\"/>\\n  </rdf:Description>\\n  <rdf:Description rdf:about=\"http://rcg.group.shef.ac.uk/resitowl/resit#personnel\">\\n    <rdfs:subClassOf rdf:resource=\"http://rcg.group.shef.ac.uk/resitowl/resit\"/>\\n    <rdfs:label>personnel</rdfs:label>\\n    <rdf:type rdf:resource=\"http://www.w3.org/2002/07/owl#Class\"/>\\n  </rdf:Description>\\n  <rdf:Description rdf:about=\"http://rcg.group.shef.ac.uk/resitowl/resit#ismemberof\">\\n    <rdfs:label>ismemberof</rdfs:label>\\n    <rdfs:subPropertyOf rdf:resource=\"http://www.w3.org/2002/07/owl#topObjectProperty\"/>\\n    <rdf:type rdf:resource=\"http://www.w3.org/2002/07/owl#ObjectProperty\"/>\\n  </rdf:Description>\\n  <rdf:Description rdf:about=\"http://rcg.group.shef.ac.uk/resitowl/resit#schedgroup\">\\n    <rdf:type rdf:resource=\"http://www.w3.org/2002/07/owl#Class\"/>\\n    <rdfs:subClassOf rdf:resource=\"http://rcg.group.shef.ac.uk/resitowl/resit#feature\"/>\\n    <rdfs:subClassOf rdf:resource=\"http://rcg.group.shef.ac.uk/resitowl/resit\"/>\\n    <rdfs:label>schedgroup</rdfs:label>\\n  </rdf:Description>\\n  <rdf:Description rdf:about=\"http://rcg.group.shef.ac.uk/resitowl/resit\">\\n    <rdf:type rdf:resource=\"http://www.w3.org/2002/07/owl#Class\"/>\\n  </rdf:Description>\\n  <rdf:Description rdf:about=\"http://rcg.group.shef.ac.uk/resitowl/resit#\">\\n    <rdf:type rdf:resource=\"http://www.w3.org/2002/07/owl#Ontology\"/>\\n  </rdf:Description>\\n</rdf:RDF>\\n'\n"
     ]
    }
   ],
   "source": [
    "#print Grapher.serialize(format='application/rdf+xml')\n",
    "s = g.serialize(format='xml')\n",
    "print(s)"
   ]
  },
  {
   "cell_type": "code",
   "execution_count": 9,
   "metadata": {},
   "outputs": [],
   "source": [
    "file = open('resitfile.rdf','wb') \n",
    "ss=str(s)\n",
    "file.write(s) \n",
    "\n",
    " \n",
    "file.close() "
   ]
  },
  {
   "cell_type": "code",
   "execution_count": 15,
   "metadata": {},
   "outputs": [
    {
     "name": "stdout",
     "output_type": "stream",
     "text": [
      "0\n",
      "<rdflib.plugins.sparql.processor.SPARQLResult object at 0x10a8bd9e8>\n"
     ]
    }
   ],
   "source": [
    "# run a simple SPARQL query against it, no inferencing, should find 15 results\n",
    "q = '''\n",
    "    PREFIX : <https://github.com/mikeg64/resit-rdfowl/blob/master/resit#>\n",
    "    SELECT (COUNT(?s) AS ?cnt)\n",
    "    WHERE {\n",
    "        ?s a :Person .\n",
    "    }\n",
    "    '''\n",
    "for r in g.query(q):\n",
    "    cnt = int(r[0])\n",
    "    print(cnt)\n",
    "print(g.query(q))"
   ]
  },
  {
   "cell_type": "code",
   "execution_count": null,
   "metadata": {},
   "outputs": [],
   "source": []
  }
 ],
 "metadata": {
  "kernelspec": {
   "display_name": "Python 3",
   "language": "python",
   "name": "python3"
  },
  "language_info": {
   "codemirror_mode": {
    "name": "ipython",
    "version": 3
   },
   "file_extension": ".py",
   "mimetype": "text/x-python",
   "name": "python",
   "nbconvert_exporter": "python",
   "pygments_lexer": "ipython3",
   "version": "3.7.3"
  }
 },
 "nbformat": 4,
 "nbformat_minor": 2
}
