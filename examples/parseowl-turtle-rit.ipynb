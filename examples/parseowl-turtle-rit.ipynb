{
 "cells": [
  {
   "cell_type": "code",
   "execution_count": null,
   "metadata": {},
   "outputs": [],
   "source": []
  },
  {
   "cell_type": "code",
   "execution_count": 16,
   "metadata": {},
   "outputs": [],
   "source": [
    "import rdflib\n",
    "import sys\n",
    "import os\n",
    "\n",
    "\n",
    "\n",
    "import owlrl"
   ]
  },
  {
   "cell_type": "code",
   "execution_count": 20,
   "metadata": {},
   "outputs": [
    {
     "ename": "BadSyntax",
     "evalue": "at line 96 of <>:\nBad syntax (objectList expected) at ^ in:\n\"...b'                                   rdfs:label \"iceberg\" ;\\n\\t:'^b' hpc;\\n\\t:isa :hpcs .\\n\\n\\n                                      '...\"",
     "output_type": "error",
     "traceback": [
      "Traceback \u001b[0;36m(most recent call last)\u001b[0m:\n",
      "  File \u001b[1;32m\"/Users/mike/anaconda3/envs/py37/lib/python3.7/site-packages/IPython/core/interactiveshell.py\"\u001b[0m, line \u001b[1;32m3296\u001b[0m, in \u001b[1;35mrun_code\u001b[0m\n    exec(code_obj, self.user_global_ns, self.user_ns)\n",
      "  File \u001b[1;32m\"<ipython-input-20-215f6cfd9415>\"\u001b[0m, line \u001b[1;32m3\u001b[0m, in \u001b[1;35m<module>\u001b[0m\n    g.parse('resit.ttl', format='turtle')\n",
      "  File \u001b[1;32m\"/Users/mike/anaconda3/envs/py37/lib/python3.7/site-packages/rdflib-4.2.2-py3.7.egg/rdflib/graph.py\"\u001b[0m, line \u001b[1;32m1043\u001b[0m, in \u001b[1;35mparse\u001b[0m\n    parser.parse(source, self, **args)\n",
      "  File \u001b[1;32m\"/Users/mike/anaconda3/envs/py37/lib/python3.7/site-packages/rdflib-4.2.2-py3.7.egg/rdflib/plugins/parsers/notation3.py\"\u001b[0m, line \u001b[1;32m1870\u001b[0m, in \u001b[1;35mparse\u001b[0m\n    p.loadStream(source.getByteStream())\n",
      "  File \u001b[1;32m\"/Users/mike/anaconda3/envs/py37/lib/python3.7/site-packages/rdflib-4.2.2-py3.7.egg/rdflib/plugins/parsers/notation3.py\"\u001b[0m, line \u001b[1;32m434\u001b[0m, in \u001b[1;35mloadStream\u001b[0m\n    return self.loadBuf(stream.read())    # Not ideal\n",
      "  File \u001b[1;32m\"/Users/mike/anaconda3/envs/py37/lib/python3.7/site-packages/rdflib-4.2.2-py3.7.egg/rdflib/plugins/parsers/notation3.py\"\u001b[0m, line \u001b[1;32m440\u001b[0m, in \u001b[1;35mloadBuf\u001b[0m\n    self.feed(buf)\n",
      "  File \u001b[1;32m\"/Users/mike/anaconda3/envs/py37/lib/python3.7/site-packages/rdflib-4.2.2-py3.7.egg/rdflib/plugins/parsers/notation3.py\"\u001b[0m, line \u001b[1;32m466\u001b[0m, in \u001b[1;35mfeed\u001b[0m\n    i = self.directiveOrStatement(s, j)\n",
      "  File \u001b[1;32m\"/Users/mike/anaconda3/envs/py37/lib/python3.7/site-packages/rdflib-4.2.2-py3.7.egg/rdflib/plugins/parsers/notation3.py\"\u001b[0m, line \u001b[1;32m487\u001b[0m, in \u001b[1;35mdirectiveOrStatement\u001b[0m\n    j = self.statement(argstr, i)\n",
      "  File \u001b[1;32m\"/Users/mike/anaconda3/envs/py37/lib/python3.7/site-packages/rdflib-4.2.2-py3.7.egg/rdflib/plugins/parsers/notation3.py\"\u001b[0m, line \u001b[1;32m725\u001b[0m, in \u001b[1;35mstatement\u001b[0m\n    j = self.property_list(argstr, i, r[0])\n",
      "  File \u001b[1;32m\"/Users/mike/anaconda3/envs/py37/lib/python3.7/site-packages/rdflib-4.2.2-py3.7.egg/rdflib/plugins/parsers/notation3.py\"\u001b[0m, line \u001b[1;32m1089\u001b[0m, in \u001b[1;35mproperty_list\u001b[0m\n    \"objectList expected\")\n",
      "\u001b[0;36m  File \u001b[0;32m\"/Users/mike/anaconda3/envs/py37/lib/python3.7/site-packages/rdflib-4.2.2-py3.7.egg/rdflib/plugins/parsers/notation3.py\"\u001b[0;36m, line \u001b[0;32m1615\u001b[0;36m, in \u001b[0;35mBadSyntax\u001b[0;36m\u001b[0m\n\u001b[0;31m    raise BadSyntax(self._thisDoc, self.lines, argstr, i, msg)\u001b[0m\n",
      "\u001b[0;36m  File \u001b[0;32m\"<string>\"\u001b[0;36m, line \u001b[0;32munknown\u001b[0m\n\u001b[0;31mBadSyntax\u001b[0m\n"
     ]
    }
   ],
   "source": [
    "g = rdflib.Graph()\n",
    "try:\n",
    "    g.parse('resit.ttl', format='turtle')\n",
    "except FileNotFoundError:\n",
    "    # This test might be run from the parent directory root\n",
    "    print('file not found trying something else!')\n",
    "    g.parse('resit-rdfowl/resit.ttl', format='turtle')"
   ]
  },
  {
   "cell_type": "code",
   "execution_count": 21,
   "metadata": {},
   "outputs": [
    {
     "name": "stdout",
     "output_type": "stream",
     "text": [
      "b'<?xml version=\"1.0\" encoding=\"UTF-8\"?>\\n<rdf:RDF\\n   xmlns:rdf=\"http://www.w3.org/1999/02/22-rdf-syntax-ns#\"\\n   xmlns:rdfs=\"http://www.w3.org/2000/01/rdf-schema#\"\\n>\\n  <rdf:Description rdf:about=\"https://github.com/mikeg64/resit-rdfowl/blob/master/resit#system\">\\n    <rdf:type rdf:resource=\"http://www.w3.org/2002/07/owl#Class\"/>\\n    <rdfs:label>system</rdfs:label>\\n    <rdfs:subClassOf rdf:resource=\"https://github.com/mikeg64/resit-rdfowl/blob/master/resit#resit\"/>\\n  </rdf:Description>\\n  <rdf:Description rdf:about=\"https://github.com/mikeg64/resit-rdfowl/blob/master/resit\">\\n    <rdf:type rdf:resource=\"http://www.w3.org/2002/07/owl#Ontology\"/>\\n  </rdf:Description>\\n  <rdf:Description rdf:about=\"https://github.com/mikeg64/resit-rdfowl/blob/master/resit#service\">\\n    <rdfs:subClassOf rdf:resource=\"https://github.com/mikeg64/resit-rdfowl/blob/master/resit#resit\"/>\\n    <rdf:type rdf:resource=\"http://www.w3.org/2002/07/owl#Class\"/>\\n    <rdfs:label>service</rdfs:label>\\n  </rdf:Description>\\n  <rdf:Description rdf:about=\"https://github.com/mikeg64/resit-rdfowl/blob/master/resit#isa\">\\n    <rdf:type rdf:resource=\"http://www.w3.org/2002/07/owl#ObjectProperty\"/>\\n    <rdfs:label>isa</rdfs:label>\\n    <rdfs:subPropertyOf rdf:resource=\"http://www.w3.org/2002/07/owl#topObjectProperty\"/>\\n  </rdf:Description>\\n  <rdf:Description rdf:about=\"https://github.com/mikeg64/resit-rdfowl/blob/master/resit#researchsoftware\">\\n    <rdfs:subClassOf rdf:resource=\"https://github.com/mikeg64/resit-rdfowl/blob/master/resit#resit\"/>\\n    <rdfs:label>researchsoftware</rdfs:label>\\n    <rdf:type rdf:resource=\"http://www.w3.org/2002/07/owl#Class\"/>\\n    <rdfs:subClassOf rdf:resource=\"https://github.com/mikeg64/resit-rdfowl/blob/master/resit#service\"/>\\n  </rdf:Description>\\n  <rdf:Description rdf:about=\"https://github.com/mikeg64/resit-rdfowl/blob/master/resit#hpcs\">\\n    <rdf:type rdf:resource=\"http://www.w3.org/2002/07/owl#Class\"/>\\n    <rdfs:label>hpcs</rdfs:label>\\n    <rdfs:subClassOf rdf:resource=\"https://github.com/mikeg64/resit-rdfowl/blob/master/resit#resit\"/>\\n    <rdf:type rdf:resource=\"http://www.w3.org/2002/07/owl#NamedIndividual\"/>\\n    <rdfs:subClassOf rdf:resource=\"https://github.com/mikeg64/resit-rdfowl/blob/master/resit#service\"/>\\n  </rdf:Description>\\n  <rdf:Description rdf:about=\"https://github.com/mikeg64/resit-rdfowl/blob/master/resit#hpc\">\\n    <rdfs:subClassOf rdf:resource=\"https://github.com/mikeg64/resit-rdfowl/blob/master/resit#resit\"/>\\n    <rdfs:label>hpc</rdfs:label>\\n    <rdf:type rdf:resource=\"http://www.w3.org/2002/07/owl#Class\"/>\\n    <rdfs:subClassOf rdf:resource=\"https://github.com/mikeg64/resit-rdfowl/blob/master/resit#system\"/>\\n  </rdf:Description>\\n  <rdf:Description rdf:about=\"https://github.com/mikeg64/resit-rdfowl/blob/master/resit#iceberg\">\\n    <rdfs:label>iceberg</rdfs:label>\\n    <rdf:type rdf:resource=\"http://www.w3.org/2002/07/owl#NamedIndividual\"/>\\n  </rdf:Description>\\n  <rdf:Description rdf:about=\"https://github.com/mikeg64/resit-rdfowl/blob/master/resit#resit\">\\n    <rdf:type rdf:resource=\"http://www.w3.org/2002/07/owl#Class\"/>\\n  </rdf:Description>\\n</rdf:RDF>\\n'\n"
     ]
    }
   ],
   "source": [
    "#print Grapher.serialize(format='application/rdf+xml')\n",
    "s = g.serialize(format='xml')\n",
    "print(s)"
   ]
  },
  {
   "cell_type": "code",
   "execution_count": 22,
   "metadata": {},
   "outputs": [],
   "source": [
    "file = open('resitfile.rdf','wb') \n",
    "ss=str(s)\n",
    "file.write(s) \n",
    "\n",
    " \n",
    "file.close() "
   ]
  },
  {
   "cell_type": "code",
   "execution_count": 15,
   "metadata": {},
   "outputs": [
    {
     "name": "stdout",
     "output_type": "stream",
     "text": [
      "0\n",
      "<rdflib.plugins.sparql.processor.SPARQLResult object at 0x10a8bd9e8>\n"
     ]
    }
   ],
   "source": [
    "# run a simple SPARQL query against it, no inferencing, should find 15 results\n",
    "q = '''\n",
    "    PREFIX : <https://github.com/mikeg64/resit-rdfowl/blob/master/resit#>\n",
    "    SELECT (COUNT(?s) AS ?cnt)\n",
    "    WHERE {\n",
    "        ?s a :Person .\n",
    "    }\n",
    "    '''\n",
    "for r in g.query(q):\n",
    "    cnt = int(r[0])\n",
    "    print(cnt)\n",
    "print(g.query(q))"
   ]
  },
  {
   "cell_type": "code",
   "execution_count": null,
   "metadata": {},
   "outputs": [],
   "source": []
  }
 ],
 "metadata": {
  "kernelspec": {
   "display_name": "Python 3",
   "language": "python",
   "name": "python3"
  },
  "language_info": {
   "codemirror_mode": {
    "name": "ipython",
    "version": 3
   },
   "file_extension": ".py",
   "mimetype": "text/x-python",
   "name": "python",
   "nbconvert_exporter": "python",
   "pygments_lexer": "ipython3",
   "version": "3.7.3"
  }
 },
 "nbformat": 4,
 "nbformat_minor": 2
}
