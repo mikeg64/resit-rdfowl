{
 "cells": [
  {
   "cell_type": "code",
   "execution_count": null,
   "metadata": {},
   "outputs": [],
   "source": []
  },
  {
   "cell_type": "code",
   "execution_count": 7,
   "metadata": {},
   "outputs": [],
   "source": [
    "import rdflib\n",
    "import sys\n",
    "import os\n",
    "\n",
    "\n",
    "\n",
    "import owlrl"
   ]
  },
  {
   "cell_type": "code",
   "execution_count": 8,
   "metadata": {},
   "outputs": [
    {
     "ename": "BadSyntax",
     "evalue": "at line 110 of <>:\nBad syntax (Prefix \":\" not bound) at ^ in:\n\"...b'\\n###  http://rcg.group.shef.ac.uk/resitowl/resit#schedgroup\\n'^b':schedgroup rdf:type owl:Class ;\\n                  rdfs:subC'...\"",
     "output_type": "error",
     "traceback": [
      "Traceback \u001b[0;36m(most recent call last)\u001b[0m:\n",
      "  File \u001b[1;32m\"/home/mike/anaconda3/envs/py37/lib/python3.7/site-packages/IPython/core/interactiveshell.py\"\u001b[0m, line \u001b[1;32m3296\u001b[0m, in \u001b[1;35mrun_code\u001b[0m\n    exec(code_obj, self.user_global_ns, self.user_ns)\n",
      "  File \u001b[1;32m\"<ipython-input-8-9e9b55ab22b3>\"\u001b[0m, line \u001b[1;32m3\u001b[0m, in \u001b[1;35m<module>\u001b[0m\n    g.parse('resitfile.ttl', format='turtle')\n",
      "  File \u001b[1;32m\"/home/mike/anaconda3/envs/py37/lib/python3.7/site-packages/rdflib/graph.py\"\u001b[0m, line \u001b[1;32m1043\u001b[0m, in \u001b[1;35mparse\u001b[0m\n    parser.parse(source, self, **args)\n",
      "  File \u001b[1;32m\"/home/mike/anaconda3/envs/py37/lib/python3.7/site-packages/rdflib/plugins/parsers/notation3.py\"\u001b[0m, line \u001b[1;32m1870\u001b[0m, in \u001b[1;35mparse\u001b[0m\n    p.loadStream(source.getByteStream())\n",
      "  File \u001b[1;32m\"/home/mike/anaconda3/envs/py37/lib/python3.7/site-packages/rdflib/plugins/parsers/notation3.py\"\u001b[0m, line \u001b[1;32m434\u001b[0m, in \u001b[1;35mloadStream\u001b[0m\n    return self.loadBuf(stream.read())    # Not ideal\n",
      "  File \u001b[1;32m\"/home/mike/anaconda3/envs/py37/lib/python3.7/site-packages/rdflib/plugins/parsers/notation3.py\"\u001b[0m, line \u001b[1;32m440\u001b[0m, in \u001b[1;35mloadBuf\u001b[0m\n    self.feed(buf)\n",
      "  File \u001b[1;32m\"/home/mike/anaconda3/envs/py37/lib/python3.7/site-packages/rdflib/plugins/parsers/notation3.py\"\u001b[0m, line \u001b[1;32m466\u001b[0m, in \u001b[1;35mfeed\u001b[0m\n    i = self.directiveOrStatement(s, j)\n",
      "  File \u001b[1;32m\"/home/mike/anaconda3/envs/py37/lib/python3.7/site-packages/rdflib/plugins/parsers/notation3.py\"\u001b[0m, line \u001b[1;32m487\u001b[0m, in \u001b[1;35mdirectiveOrStatement\u001b[0m\n    j = self.statement(argstr, i)\n",
      "  File \u001b[1;32m\"/home/mike/anaconda3/envs/py37/lib/python3.7/site-packages/rdflib/plugins/parsers/notation3.py\"\u001b[0m, line \u001b[1;32m721\u001b[0m, in \u001b[1;35mstatement\u001b[0m\n    argstr, i, r)   # Allow literal for subject - extends RDF\n",
      "  File \u001b[1;32m\"/home/mike/anaconda3/envs/py37/lib/python3.7/site-packages/rdflib/plugins/parsers/notation3.py\"\u001b[0m, line \u001b[1;32m1406\u001b[0m, in \u001b[1;35mobject\u001b[0m\n    j = self.subject(argstr, i, res)\n",
      "  File \u001b[1;32m\"/home/mike/anaconda3/envs/py37/lib/python3.7/site-packages/rdflib/plugins/parsers/notation3.py\"\u001b[0m, line \u001b[1;32m733\u001b[0m, in \u001b[1;35msubject\u001b[0m\n    return self.item(argstr, i, res)\n",
      "  File \u001b[1;32m\"/home/mike/anaconda3/envs/py37/lib/python3.7/site-packages/rdflib/plugins/parsers/notation3.py\"\u001b[0m, line \u001b[1;32m829\u001b[0m, in \u001b[1;35mitem\u001b[0m\n    return self.path(argstr, i, res)\n",
      "  File \u001b[1;32m\"/home/mike/anaconda3/envs/py37/lib/python3.7/site-packages/rdflib/plugins/parsers/notation3.py\"\u001b[0m, line \u001b[1;32m837\u001b[0m, in \u001b[1;35mpath\u001b[0m\n    j = self.nodeOrLiteral(argstr, i, res)\n",
      "  File \u001b[1;32m\"/home/mike/anaconda3/envs/py37/lib/python3.7/site-packages/rdflib/plugins/parsers/notation3.py\"\u001b[0m, line \u001b[1;32m1431\u001b[0m, in \u001b[1;35mnodeOrLiteral\u001b[0m\n    j = self.node(argstr, i, res)\n",
      "  File \u001b[1;32m\"/home/mike/anaconda3/envs/py37/lib/python3.7/site-packages/rdflib/plugins/parsers/notation3.py\"\u001b[0m, line \u001b[1;32m1049\u001b[0m, in \u001b[1;35mnode\u001b[0m\n    j = self.uri_ref2(argstr, i, res)\n",
      "  File \u001b[1;32m\"/home/mike/anaconda3/envs/py37/lib/python3.7/site-packages/rdflib/plugins/parsers/notation3.py\"\u001b[0m, line \u001b[1;32m1186\u001b[0m, in \u001b[1;35muri_ref2\u001b[0m\n    \"Prefix \\\"%s:\\\" not bound\" % (pfx))\n",
      "\u001b[0;36m  File \u001b[0;32m\"/home/mike/anaconda3/envs/py37/lib/python3.7/site-packages/rdflib/plugins/parsers/notation3.py\"\u001b[0;36m, line \u001b[0;32m1615\u001b[0;36m, in \u001b[0;35mBadSyntax\u001b[0;36m\u001b[0m\n\u001b[0;31m    raise BadSyntax(self._thisDoc, self.lines, argstr, i, msg)\u001b[0m\n",
      "\u001b[0;36m  File \u001b[0;32m\"<string>\"\u001b[0;36m, line \u001b[0;32munknown\u001b[0m\n\u001b[0;31mBadSyntax\u001b[0m\n"
     ]
    }
   ],
   "source": [
    "g = rdflib.Graph()\n",
    "try:\n",
    "    g.parse('resitfile.ttl', format='turtle')\n",
    "except FileNotFoundError:\n",
    "    # This test might be run from the parent directory root\n",
    "    print('file not found trying something else!')\n",
    "    g.parse('resit-rdfowl/resit.ttl', format='turtle')"
   ]
  },
  {
   "cell_type": "code",
   "execution_count": 9,
   "metadata": {},
   "outputs": [
    {
     "name": "stdout",
     "output_type": "stream",
     "text": [
      "b'<?xml version=\"1.0\" encoding=\"UTF-8\"?>\\n<rdf:RDF\\n   xmlns:rdf=\"http://www.w3.org/1999/02/22-rdf-syntax-ns#\"\\n   xmlns:rdfs=\"http://www.w3.org/2000/01/rdf-schema#\"\\n>\\n  <rdf:Description rdf:about=\"http://rcg.group.shef.ac.uk/resitowl/resit#hpc\">\\n    <rdfs:subClassOf rdf:resource=\"http://rcg.group.shef.ac.uk/resitowl/resit#system\"/>\\n    <rdfs:label>hpc</rdfs:label>\\n    <rdf:type rdf:resource=\"http://www.w3.org/2002/07/owl#Class\"/>\\n    <rdfs:subClassOf rdf:resource=\"http://rcg.group.shef.ac.uk/resitowl/resit\"/>\\n  </rdf:Description>\\n  <rdf:Description rdf:about=\"http://rcg.group.shef.ac.uk/resitowl/resit#isa\">\\n    <rdfs:label>isa</rdfs:label>\\n    <rdfs:subPropertyOf rdf:resource=\"http://www.w3.org/2002/07/owl#topObjectProperty\"/>\\n    <rdf:type rdf:resource=\"http://www.w3.org/2002/07/owl#ObjectProperty\"/>\\n  </rdf:Description>\\n  <rdf:Description rdf:about=\"http://rcg.group.shef.ac.uk/resitowl/resit#feature\">\\n    <rdf:type rdf:resource=\"http://www.w3.org/2002/07/owl#Class\"/>\\n    <rdfs:label>feature</rdfs:label>\\n    <rdfs:subClassOf rdf:resource=\"http://rcg.group.shef.ac.uk/resitowl/resit\"/>\\n  </rdf:Description>\\n  <rdf:Description rdf:about=\"http://rcg.group.shef.ac.uk/resitowl/resit#researchsupport\">\\n    <rdfs:subClassOf rdf:resource=\"http://rcg.group.shef.ac.uk/resitowl/resit\"/>\\n    <rdfs:subClassOf rdf:resource=\"http://rcg.group.shef.ac.uk/resitowl/resit#service\"/>\\n    <rdfs:label>researchsupport</rdfs:label>\\n    <rdf:type rdf:resource=\"http://www.w3.org/2002/07/owl#Class\"/>\\n  </rdf:Description>\\n  <rdf:Description rdf:about=\"http://rcg.group.shef.ac.uk/resitowl/resit#hasa\">\\n    <rdfs:label>hasa</rdfs:label>\\n    <rdfs:subPropertyOf rdf:resource=\"http://www.w3.org/2002/07/owl#topObjectProperty\"/>\\n    <rdf:type rdf:resource=\"http://www.w3.org/2002/07/owl#ObjectProperty\"/>\\n  </rdf:Description>\\n  <rdf:Description rdf:about=\"http://rcg.group.shef.ac.uk/resitowl/resit#hasaccessto\">\\n    <rdfs:subPropertyOf rdf:resource=\"http://www.w3.org/2002/07/owl#topObjectProperty\"/>\\n    <rdf:type rdf:resource=\"http://www.w3.org/2002/07/owl#ObjectProperty\"/>\\n    <rdfs:label>hasaccessto</rdfs:label>\\n  </rdf:Description>\\n  <rdf:Description rdf:about=\"http://rcg.group.shef.ac.uk/resitowl/resit#researchstorage\">\\n    <rdfs:subClassOf rdf:resource=\"http://rcg.group.shef.ac.uk/resitowl/resit\"/>\\n    <rdfs:label>researchstorage</rdfs:label>\\n    <rdf:type rdf:resource=\"http://www.w3.org/2002/07/owl#Class\"/>\\n    <rdfs:subClassOf rdf:resource=\"http://rcg.group.shef.ac.uk/resitowl/resit#service\"/>\\n  </rdf:Description>\\n  <rdf:Description rdf:about=\"http://rcg.group.shef.ac.uk/resitowl/resit#researchvminstance\">\\n    <rdf:type rdf:resource=\"http://www.w3.org/2002/07/owl#Class\"/>\\n    <rdfs:subClassOf rdf:resource=\"http://rcg.group.shef.ac.uk/resitowl/resit\"/>\\n    <rdfs:label>researchvminstance</rdfs:label>\\n  </rdf:Description>\\n  <rdf:Description rdf:about=\"http://rcg.group.shef.ac.uk/resitowl/resit#hpcs\">\\n    <rdfs:subClassOf rdf:resource=\"http://rcg.group.shef.ac.uk/resitowl/resit\"/>\\n    <rdf:type rdf:resource=\"http://www.w3.org/2002/07/owl#Class\"/>\\n    <rdfs:subClassOf rdf:resource=\"http://rcg.group.shef.ac.uk/resitowl/resit#service\"/>\\n  </rdf:Description>\\n  <rdf:Description rdf:about=\"http://rcg.group.shef.ac.uk/resitowl/resit#isprovidedby\">\\n    <rdf:type rdf:resource=\"http://www.w3.org/2002/07/owl#ObjectProperty\"/>\\n    <rdfs:label>isprovidedby</rdfs:label>\\n    <rdfs:subPropertyOf rdf:resource=\"http://www.w3.org/2002/07/owl#topObjectProperty\"/>\\n  </rdf:Description>\\n  <rdf:Description rdf:about=\"http://rcg.group.shef.ac.uk/resitowl/resit#service\">\\n    <rdfs:subClassOf rdf:resource=\"http://rcg.group.shef.ac.uk/resitowl/resit\"/>\\n    <rdfs:label>service</rdfs:label>\\n    <rdf:type rdf:resource=\"http://www.w3.org/2002/07/owl#Class\"/>\\n  </rdf:Description>\\n  <rdf:Description rdf:about=\"http://rcg.group.shef.ac.uk/resitowl/resit#status\">\\n    <rdfs:comment>Status e.g of a project can be Live, retired, Application, Completed, Not started etc....</rdfs:comment>\\n    <rdfs:subClassOf rdf:resource=\"http://rcg.group.shef.ac.uk/resitowl/resit#feature\"/>\\n    <rdfs:label>status</rdfs:label>\\n    <rdf:type rdf:resource=\"http://www.w3.org/2002/07/owl#Class\"/>\\n  </rdf:Description>\\n  <rdf:Description rdf:about=\"http://rcg.group.shef.ac.uk/resitowl/resit#researchvm\">\\n    <rdfs:subClassOf rdf:resource=\"http://rcg.group.shef.ac.uk/resitowl/resit#service\"/>\\n    <rdfs:label>researchvm</rdfs:label>\\n    <rdfs:subClassOf rdf:resource=\"http://rcg.group.shef.ac.uk/resitowl/resit\"/>\\n    <rdf:type rdf:resource=\"http://www.w3.org/2002/07/owl#Class\"/>\\n  </rdf:Description>\\n  <rdf:Description rdf:about=\"http://rcg.group.shef.ac.uk/resitowl/resit#rdmp\">\\n    <rdf:type rdf:resource=\"http://www.w3.org/2002/07/owl#Class\"/>\\n    <rdfs:label>rdmp</rdfs:label>\\n    <rdfs:comment>rdmp is a research data management plan</rdfs:comment>\\n    <rdfs:subClassOf rdf:resource=\"http://rcg.group.shef.ac.uk/resitowl/resit#feature\"/>\\n  </rdf:Description>\\n  <rdf:Description rdf:about=\"http://rcg.group.shef.ac.uk/resitowl/resit#schedgroup\">\\n    <rdfs:label>schedgroup</rdfs:label>\\n    <rdf:type rdf:resource=\"http://www.w3.org/2002/07/owl#Class\"/>\\n    <rdfs:subClassOf rdf:resource=\"http://rcg.group.shef.ac.uk/resitowl/resit#feature\"/>\\n  </rdf:Description>\\n  <rdf:Description rdf:about=\"http://rcg.group.shef.ac.uk/resitowl/resit#ismemberof\">\\n    <rdf:type rdf:resource=\"http://www.w3.org/2002/07/owl#ObjectProperty\"/>\\n    <rdfs:label>ismemberof</rdfs:label>\\n    <rdfs:subPropertyOf rdf:resource=\"http://www.w3.org/2002/07/owl#topObjectProperty\"/>\\n  </rdf:Description>\\n  <rdf:Description rdf:about=\"http://rcg.group.shef.ac.uk/resitowl/resit#storage\">\\n    <rdfs:subClassOf rdf:resource=\"http://rcg.group.shef.ac.uk/resitowl/resit\"/>\\n    <rdfs:label>storage</rdfs:label>\\n    <rdf:type rdf:resource=\"http://www.w3.org/2002/07/owl#Class\"/>\\n  </rdf:Description>\\n  <rdf:Description rdf:about=\"http://rcg.group.shef.ac.uk/resitowl/resit#group\">\\n    <rdfs:label>group</rdfs:label>\\n    <rdfs:subClassOf rdf:resource=\"http://rcg.group.shef.ac.uk/resitowl/resit#feature\"/>\\n    <rdf:type rdf:resource=\"http://www.w3.org/2002/07/owl#Class\"/>\\n  </rdf:Description>\\n  <rdf:Description rdf:about=\"http://rcg.group.shef.ac.uk/resitowl/resit#hascompleted\">\\n    <rdfs:label>hascompleted</rdfs:label>\\n    <rdfs:subPropertyOf rdf:resource=\"http://www.w3.org/2002/07/owl#topObjectProperty\"/>\\n    <rdf:type rdf:resource=\"http://www.w3.org/2002/07/owl#ObjectProperty\"/>\\n  </rdf:Description>\\n  <rdf:Description rdf:about=\"http://rcg.group.shef.ac.uk/resitowl/resit#researchsoftware\">\\n    <rdfs:label>researchsoftware</rdfs:label>\\n    <rdfs:subClassOf rdf:resource=\"http://rcg.group.shef.ac.uk/resitowl/resit#service\"/>\\n    <rdf:type rdf:resource=\"http://www.w3.org/2002/07/owl#Class\"/>\\n    <rdfs:subClassOf rdf:resource=\"http://rcg.group.shef.ac.uk/resitowl/resit\"/>\\n  </rdf:Description>\\n  <rdf:Description rdf:about=\"http://rcg.group.shef.ac.uk/resitowl/resit#project\">\\n    <rdfs:subClassOf rdf:resource=\"http://rcg.group.shef.ac.uk/resitowl/resit#feature\"/>\\n    <rdfs:subClassOf rdf:resource=\"http://rcg.group.shef.ac.uk/resitowl/resit\"/>\\n    <rdfs:label>project</rdfs:label>\\n    <rdf:type rdf:resource=\"http://www.w3.org/2002/07/owl#Class\"/>\\n  </rdf:Description>\\n  <rdf:Description rdf:about=\"http://rcg.group.shef.ac.uk/resitowl/resit#assuredcomputing\">\\n    <rdfs:subClassOf rdf:resource=\"http://rcg.group.shef.ac.uk/resitowl/resit#service\"/>\\n    <rdfs:label>assuredcomputing</rdfs:label>\\n    <rdfs:subClassOf rdf:resource=\"http://rcg.group.shef.ac.uk/resitowl/resit\"/>\\n    <rdf:type rdf:resource=\"http://www.w3.org/2002/07/owl#Class\"/>\\n  </rdf:Description>\\n  <rdf:Description rdf:about=\"http://rcg.group.shef.ac.uk/resitowl/resit#\">\\n    <rdf:type rdf:resource=\"http://www.w3.org/2002/07/owl#Ontology\"/>\\n  </rdf:Description>\\n</rdf:RDF>\\n'\n"
     ]
    }
   ],
   "source": [
    "#print Grapher.serialize(format='application/rdf+xml')\n",
    "s = g.serialize(format='xml')\n",
    "print(s)"
   ]
  },
  {
   "cell_type": "code",
   "execution_count": 10,
   "metadata": {},
   "outputs": [],
   "source": [
    "file = open('resitfile.rdf','wb') \n",
    "ss=str(s)\n",
    "file.write(s) \n",
    "\n",
    " \n",
    "file.close() "
   ]
  },
  {
   "cell_type": "code",
   "execution_count": 15,
   "metadata": {},
   "outputs": [
    {
     "name": "stdout",
     "output_type": "stream",
     "text": [
      "0\n",
      "<rdflib.plugins.sparql.processor.SPARQLResult object at 0x10a8bd9e8>\n"
     ]
    }
   ],
   "source": [
    "# run a simple SPARQL query against it, no inferencing, should find 15 results\n",
    "q = '''\n",
    "    PREFIX : <https://github.com/mikeg64/resit-rdfowl/blob/master/resit#>\n",
    "    SELECT (COUNT(?s) AS ?cnt)\n",
    "    WHERE {\n",
    "        ?s a :Person .\n",
    "    }\n",
    "    '''\n",
    "for r in g.query(q):\n",
    "    cnt = int(r[0])\n",
    "    print(cnt)\n",
    "print(g.query(q))"
   ]
  },
  {
   "cell_type": "code",
   "execution_count": null,
   "metadata": {},
   "outputs": [],
   "source": []
  }
 ],
 "metadata": {
  "kernelspec": {
   "display_name": "Python 3",
   "language": "python",
   "name": "python3"
  },
  "language_info": {
   "codemirror_mode": {
    "name": "ipython",
    "version": 3
   },
   "file_extension": ".py",
   "mimetype": "text/x-python",
   "name": "python",
   "nbconvert_exporter": "python",
   "pygments_lexer": "ipython3",
   "version": "3.7.3"
  }
 },
 "nbformat": 4,
 "nbformat_minor": 2
}
