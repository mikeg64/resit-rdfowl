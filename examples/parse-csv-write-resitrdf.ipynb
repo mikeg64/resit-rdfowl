{
 "cells": [
  {
   "cell_type": "markdown",
   "metadata": {},
   "source": [
    "## Parse CSV Data and write as RDF information file\n"
   ]
  },
  {
   "cell_type": "code",
   "execution_count": 4,
   "metadata": {},
   "outputs": [],
   "source": [
    "import numpy as np\n",
    "import pandas as pd\n",
    "\n",
    "from rdflib import Graph, Literal, BNode, Namespace, RDF,RDFS,OWL, URIRef\n",
    "from rdflib.namespace import DC, FOAF\n",
    "\n",
    "from pandas import Series, DataFrame"
   ]
  },
  {
   "cell_type": "code",
   "execution_count": 91,
   "metadata": {},
   "outputs": [],
   "source": [
    "address = 'test-store-sched-groups - dumpgroups.csv'\n",
    "stordat = pd.read_csv(address)\n",
    "\n",
    "stordat.columns = ['group','user']\n",
    "stordat.head()\n",
    "\n",
    "types=pd.DataFrame(columns=['type'])\n",
    "for i in range(1,stordat.size+1):\n",
    "    types.loc[i]=0\n",
    "#newstordat=stordat\n",
    "\n",
    "newstordat=pd.concat([stordat,types],axis=1)\n",
    "#append column type type will be fstore, hpcsched, hpcgroup"
   ]
  },
  {
   "cell_type": "code",
   "execution_count": 92,
   "metadata": {},
   "outputs": [
    {
     "name": "stdout",
     "output_type": "stream",
     "text": [
      "0\n"
     ]
    }
   ],
   "source": [
    "#print(types)\n",
    "stordat.size\n",
    "f=newstordat.loc[2,'type']\n",
    "print(f)"
   ]
  },
  {
   "cell_type": "code",
   "execution_count": 93,
   "metadata": {},
   "outputs": [
    {
     "name": "stdout",
     "output_type": "stream",
     "text": [
      "hpcsched\n",
      "hpcsch\n",
      "hpc\n",
      "hpcsched\n",
      "hpcsch\n",
      "hpc\n",
      "hpcsched\n",
      "hpcsch\n",
      "hpc\n",
      "hpcsched\n",
      "hpcsch\n",
      "hpc\n",
      "hpcsched\n",
      "hpcsch\n",
      "hpc\n",
      "hpcsched\n",
      "hpcsch\n",
      "hpc\n",
      "hpcsched\n",
      "hpcsch\n",
      "hpc\n",
      "hpc_acse\n",
      "hpc_ac\n",
      "hpc\n",
      "hpc_acse\n",
      "hpc_ac\n",
      "hpc\n",
      "hpc_acse\n",
      "hpc_ac\n",
      "hpc\n",
      "hpc_acse\n",
      "hpc_ac\n",
      "hpc\n",
      "hpc_acse\n",
      "hpc_ac\n",
      "hpc\n",
      "hpc_acsh\n",
      "hpc_ac\n",
      "hpc\n",
      "hpc_ac-s\n",
      "hpc_ac\n",
      "hpc\n",
      "hpc_ac-s\n",
      "hpc_ac\n",
      "hpc\n",
      "hpc_carp\n",
      "hpc_ca\n",
      "hpc\n",
      "hpc_carp\n",
      "hpc_ca\n",
      "hpc\n",
      "hpc_cast\n",
      "hpc_ca\n",
      "hpc\n",
      "hpc_cast\n",
      "hpc_ca\n",
      "hpc\n",
      "hpc_cast\n",
      "hpc_ca\n",
      "hpc\n",
      "hpc_cast\n",
      "hpc_ca\n",
      "hpc\n",
      "hpc_cast\n",
      "hpc_ca\n",
      "hpc\n",
      "hpc_cast\n",
      "hpc_ca\n",
      "hpc\n",
      "hpc_gulp\n",
      "hpc_gu\n",
      "hpc\n",
      "hpc_gulp\n",
      "hpc_gu\n",
      "hpc\n",
      "hpc_gulp\n",
      "hpc_gu\n",
      "hpc\n",
      "hpc_gulp\n",
      "hpc_gu\n",
      "hpc\n",
      "hpc_gulp\n",
      "hpc_gu\n",
      "hpc\n",
      "hpc_lodi\n",
      "hpc_lo\n",
      "hpc\n",
      "hpcsched\n",
      "hpcsch\n",
      "hpc\n",
      "hpcsched\n",
      "hpcsch\n",
      "hpc\n",
      "hpcsched\n",
      "hpcsch\n",
      "hpc\n",
      "hpcsched\n",
      "hpcsch\n",
      "hpc\n",
      "hpcsched\n",
      "hpcsch\n",
      "hpc\n",
      "hpcsched\n",
      "hpcsch\n",
      "hpc\n",
      "hpcsched\n",
      "hpcsch\n",
      "hpc\n",
      "fstore_s\n",
      "fstore\n",
      "fst\n",
      "fstore_s\n",
      "fstore\n",
      "fst\n",
      "fstore_s\n",
      "fstore\n",
      "fst\n",
      "fstore_s\n",
      "fstore\n",
      "fst\n",
      "fstore_s\n",
      "fstore\n",
      "fst\n",
      "fstore_s\n",
      "fstore\n",
      "fst\n",
      "fstore_s\n",
      "fstore\n",
      "fst\n",
      "fstore_s\n",
      "fstore\n",
      "fst\n"
     ]
    },
    {
     "ename": "TypeError",
     "evalue": "'float' object is not subscriptable",
     "output_type": "error",
     "traceback": [
      "\u001b[0;31m---------------------------------------------------------------------------\u001b[0m",
      "\u001b[0;31mTypeError\u001b[0m                                 Traceback (most recent call last)",
      "\u001b[0;32m<ipython-input-93-39054867186b>\u001b[0m in \u001b[0;36m<module>\u001b[0;34m\u001b[0m\n\u001b[1;32m      5\u001b[0m     \u001b[0;31m#stype=newstordat.loc[i,'type']\u001b[0m\u001b[0;34m\u001b[0m\u001b[0;34m\u001b[0m\u001b[0;34m\u001b[0m\u001b[0m\n\u001b[1;32m      6\u001b[0m     \u001b[0;31m#if first 8 character hpcsched\u001b[0m\u001b[0;34m\u001b[0m\u001b[0;34m\u001b[0m\u001b[0;34m\u001b[0m\u001b[0m\n\u001b[0;32m----> 7\u001b[0;31m     \u001b[0mprint\u001b[0m\u001b[0;34m(\u001b[0m\u001b[0msgroup\u001b[0m\u001b[0;34m[\u001b[0m\u001b[0;36m0\u001b[0m\u001b[0;34m:\u001b[0m\u001b[0;36m8\u001b[0m\u001b[0;34m]\u001b[0m\u001b[0;34m)\u001b[0m\u001b[0;34m\u001b[0m\u001b[0;34m\u001b[0m\u001b[0m\n\u001b[0m\u001b[1;32m      8\u001b[0m \u001b[0;34m\u001b[0m\u001b[0m\n\u001b[1;32m      9\u001b[0m     \u001b[0;31m#if first 6 character fstore\u001b[0m\u001b[0;34m\u001b[0m\u001b[0;34m\u001b[0m\u001b[0;34m\u001b[0m\u001b[0m\n",
      "\u001b[0;31mTypeError\u001b[0m: 'float' object is not subscriptable"
     ]
    }
   ],
   "source": [
    "#stordat\n",
    "for i in range(1,stordat.size):\n",
    "    sgroup=newstordat.loc[i,'group']\n",
    "    #newstordat.loc[i,'type']='test'\n",
    "    #stype=newstordat.loc[i,'type']\n",
    "    #if first 8 character hpcsched\n",
    "    print(sgroup[0:8])\n",
    "    \n",
    "    #if first 6 character fstore\n",
    "    print(sgroup[0:6])\n",
    "    \n",
    "    \n",
    "    #if first 3 character hpc\n",
    "    print(sgroup[0:3])"
   ]
  },
  {
   "cell_type": "code",
   "execution_count": 7,
   "metadata": {},
   "outputs": [],
   "source": [
    "\n",
    "\n",
    "g = Graph()\n",
    "\n",
    "# Create an identifier to use as the subject for Donna.\n",
    "resit = BNode()"
   ]
  },
  {
   "cell_type": "code",
   "execution_count": 18,
   "metadata": {},
   "outputs": [],
   "source": [
    "# Add triples using store's add method.\n",
    "g.add( (resit, RDF.type, FOAF.Person) )\n",
    "g.add( (resit, FOAF.name, Literal(\"Donna Fales\")) )\n",
    "g.add((resit,RDF.type,URIRef(\"http://rcg.group.shef.ac.uk/resitowl/resit#isa\")))\n",
    "g.add((resit,RDF.type,URIRef(\"http://rcg.group.shef.ac.uk/resitowl/resit#ismemberof\")))\n",
    "g.add( (resit, FOAF.nick, Literal(\"donna\", lang=\"foo\")) )\n",
    "g.add( (resit, FOAF.name, Literal(\"Donna Fales\")) )\n",
    "g.add( (resit, FOAF.mbox, URIRef(\"mailto:donna@example.org\")) )"
   ]
  },
  {
   "cell_type": "code",
   "execution_count": 19,
   "metadata": {},
   "outputs": [
    {
     "name": "stdout",
     "output_type": "stream",
     "text": [
      "--- serializing ---\n"
     ]
    }
   ],
   "source": [
    "# Bind a few prefix, namespace pairs for more readable output\n",
    "g.bind(\"dc\", DC)\n",
    "g.bind(\"foaf\", FOAF)\n",
    "\n",
    "print(\"--- serializing ---\")\n",
    "s=g.serialize(format='xml') "
   ]
  },
  {
   "cell_type": "code",
   "execution_count": null,
   "metadata": {},
   "outputs": [],
   "source": []
  },
  {
   "cell_type": "code",
   "execution_count": 20,
   "metadata": {},
   "outputs": [],
   "source": [
    "file = open('stor-ritdat.rdf','wb') \n",
    "ss=str(s)\n",
    "file.write(s) \n",
    "\n",
    " \n",
    "file.close() "
   ]
  },
  {
   "cell_type": "code",
   "execution_count": null,
   "metadata": {},
   "outputs": [],
   "source": []
  }
 ],
 "metadata": {
  "kernelspec": {
   "display_name": "Python 3",
   "language": "python",
   "name": "python3"
  },
  "language_info": {
   "codemirror_mode": {
    "name": "ipython",
    "version": 3
   },
   "file_extension": ".py",
   "mimetype": "text/x-python",
   "name": "python",
   "nbconvert_exporter": "python",
   "pygments_lexer": "ipython3",
   "version": "3.7.3"
  }
 },
 "nbformat": 4,
 "nbformat_minor": 2
}
