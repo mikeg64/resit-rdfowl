{
 "cells": [
  {
   "cell_type": "markdown",
   "metadata": {},
   "source": [
    "## Parse CSV Data and write as RDF information file\n"
   ]
  },
  {
   "cell_type": "code",
   "execution_count": 1,
   "metadata": {},
   "outputs": [],
   "source": [
    "import numpy as np\n",
    "import pandas as pd\n",
    "import rdflib\n",
    "\n",
    "from rdflib import Graph, Literal, BNode, Namespace, RDF,RDFS,OWL, URIRef\n",
    "from rdflib.namespace import DC, FOAF\n",
    "\n",
    "from pandas import Series, DataFrame"
   ]
  },
  {
   "cell_type": "code",
   "execution_count": 2,
   "metadata": {},
   "outputs": [
    {
     "name": "stdout",
     "output_type": "stream",
     "text": [
      "45\n"
     ]
    }
   ],
   "source": [
    "address = 'test-store-sched-groups - dumpgroups.csv'\n",
    "stordat = pd.read_csv(address)\n",
    "\n",
    "stordat.columns = ['group','user']\n",
    "stordat.head()\n",
    "\n",
    "types=pd.DataFrame(columns=['type'])\n",
    "sdsh=stordat.shape\n",
    "print(sdsh[0])\n",
    "for i in range(0,sdsh[0]):\n",
    "    types.loc[i]='test1'\n",
    "#newstordat=stordat\n",
    "\n",
    "newstordat=pd.concat([stordat,types],axis=1)\n",
    "\n",
    "#append column type type will be fstore, hpcsched, hpcgroup"
   ]
  },
  {
   "cell_type": "code",
   "execution_count": 4,
   "metadata": {},
   "outputs": [
    {
     "name": "stdout",
     "output_type": "stream",
     "text": [
      "(45, 3)\n",
      "test1\n"
     ]
    }
   ],
   "source": [
    "#print(types)\n",
    "print(newstordat.shape)\n",
    "f=newstordat.loc[2,'type']\n",
    "print(f)"
   ]
  },
  {
   "cell_type": "code",
   "execution_count": 5,
   "metadata": {},
   "outputs": [
    {
     "name": "stdout",
     "output_type": "stream",
     "text": [
      "(45, 3)\n",
      "1 user1 hpcsched_seta hpcsched\n",
      "2 user2 hpcsched_seta hpcsched\n",
      "3 user3 hpcsched_seta hpcsched\n",
      "4 user4 hpcsched_acsehpc hpcsched\n",
      "5 user5 hpcsched_acsehpc hpcsched\n",
      "6 user6 hpcsched_acsehpc hpcsched\n",
      "7 user1 hpcsched_acsehpc hpcsched\n",
      "8 user8 hpcsched_elhaiklab hpcsched\n",
      "9 user4 hpc_acse hpc\n",
      "10 user5 hpc_acse hpc\n",
      "11 user6 hpc_acse hpc\n",
      "12 user1 hpc_acse hpc\n",
      "13 user2 hpc_acsentf hpc\n",
      "14 user3 hpc_acshared hpc\n",
      "15 user4 hpc_ac-storage hpc\n",
      "16 user1 hpc_ac-storage hpc\n",
      "17 user9 hpc_carp hpc\n",
      "18 user10 hpc_carp hpc\n",
      "19 user11 hpc_castep hpc\n",
      "20 user12 hpc_castep hpc\n",
      "21 user13 hpc_castep hpc\n",
      "22 user1 hpc_castep hpc\n",
      "23 user2 hpc_castep hpc\n",
      "24 user5 hpc_castep hpc\n",
      "25 user4 hpc_gulp hpc\n",
      "26 user1 hpc_gulp hpc\n",
      "27 user9 hpc_gulp hpc\n",
      "28 user10 hpc_gulp hpc\n",
      "29 user11 hpc_gulp hpc\n",
      "30 user12 hpc_lodie hpc\n",
      "31 user1 hpcsched_rse-comx521 hpcsched\n",
      "32 user2 hpcsched_rse-comx521 hpcsched\n",
      "33 user3 hpcsched_littorina hpcsched\n",
      "34 user4 hpcsched_littorina hpcsched\n",
      "35 user1 hpcsched_odk hpcsched\n",
      "36 user9 hpcsched_odk hpcsched\n",
      "37 user10 hpcsched_odk hpcsched\n",
      "38 user11 fstore_sp2rc2_Shared-modify fstore\n",
      "39 user12 fstore_sp2rc2_Shared-modify fstore\n",
      "40 user13 fstore_sp2rc2_Shared-modify fstore\n",
      "41 user1 fstore_sp2rc2_Shared-modify fstore\n",
      "42 user2 fstore_sp2rc2_Shared-modify fstore\n",
      "43 user14 fstore_sp2rc2_Shared-modify fstore\n",
      "44 user15 fstore_sp2rc2_Shared-modify fstore\n",
      "45 user16 fstore_sp2rc2_Shared-modify fstore\n"
     ]
    }
   ],
   "source": [
    "#stordat\n",
    "print(newstordat.shape)\n",
    "#for j in range(0,newstordat.size-3):\n",
    "for j in range(0,sdsh[0]):\n",
    "    i=j+1\n",
    "    #print(str(i)+' '+newstordat.loc[j,'user'])\n",
    "    sgroup=newstordat.loc[j,'group']\n",
    "    #newstordat.loc[i,'type']='test'\n",
    "    #stype=newstordat.loc[i,'type']\n",
    "    #if first 8 character hpcsched\n",
    "    #print(sgroup[0:8])\n",
    "    if sgroup[0:8] == 'hpcsched':\n",
    "        newstordat.loc[j,'type']='hpcsched'    \n",
    "    #if first 6 character fstore\n",
    "    #print(sgroup[0:6])\n",
    "    elif sgroup[0:6] == 'fstore':\n",
    "        newstordat.loc[j,'type']='fstore'    \n",
    "    #if first 3 character hpc\n",
    "    #print(sgroup[0:3])\n",
    "    elif sgroup[0:3] == 'hpc':\n",
    "        newstordat.loc[j,'type']='hpc'    \n",
    "    #print(newstordat.loc[j,'type'])\n",
    "    print(str(i)+' '+newstordat.loc[j,'user']+' '+newstordat.loc[j,'group']+' '+newstordat.loc[j,'type'])\n",
    "\n"
   ]
  },
  {
   "cell_type": "code",
   "execution_count": 6,
   "metadata": {},
   "outputs": [
    {
     "name": "stdout",
     "output_type": "stream",
     "text": [
      "          group    user      type\n",
      "0          seta   user1  hpcsched\n",
      "1          seta   user2  hpcsched\n",
      "2          seta   user3  hpcsched\n",
      "3       acsehpc   user4  hpcsched\n",
      "4       acsehpc   user5  hpcsched\n",
      "5       acsehpc   user6  hpcsched\n",
      "6       acsehpc   user1  hpcsched\n",
      "7     elhaiklab   user8  hpcsched\n",
      "8          acse   user4       hpc\n",
      "9          acse   user5       hpc\n",
      "10         acse   user6       hpc\n",
      "11         acse   user1       hpc\n",
      "12      acsentf   user2       hpc\n",
      "13     acshared   user3       hpc\n",
      "14   ac-storage   user4       hpc\n",
      "15   ac-storage   user1       hpc\n",
      "16         carp   user9       hpc\n",
      "17         carp  user10       hpc\n",
      "18       castep  user11       hpc\n",
      "19       castep  user12       hpc\n",
      "20       castep  user13       hpc\n",
      "21       castep   user1       hpc\n",
      "22       castep   user2       hpc\n",
      "23       castep   user5       hpc\n",
      "24         gulp   user4       hpc\n",
      "25         gulp   user1       hpc\n",
      "26         gulp   user9       hpc\n",
      "27         gulp  user10       hpc\n",
      "28         gulp  user11       hpc\n",
      "29        lodie  user12       hpc\n",
      "30  rse-comx521   user1  hpcsched\n",
      "31  rse-comx521   user2  hpcsched\n",
      "32    littorina   user3  hpcsched\n",
      "33    littorina   user4  hpcsched\n",
      "34          odk   user1  hpcsched\n",
      "35          odk   user9  hpcsched\n",
      "36          odk  user10  hpcsched\n",
      "37        sp2rc  user11    fstore\n",
      "38        sp2rc  user12    fstore\n",
      "39        sp2rc  user13    fstore\n",
      "40        sp2rc   user1    fstore\n",
      "41        sp2rc   user2    fstore\n",
      "42        sp2rc  user14    fstore\n",
      "43        sp2rc  user15    fstore\n",
      "44        sp2rc  user16    fstore\n"
     ]
    }
   ],
   "source": [
    "# extract the groupname\n",
    "# find each instance of _ and use this to locate each token\n",
    "# locations of _ in each string are contained in intyeger array ksa\n",
    "ksa=list(range(0, 10))\n",
    "for j in range(0,sdsh[0]):\n",
    "    i=j+1\n",
    "    sgroup=newstordat.loc[j,'group']\n",
    "    ks=len(sgroup)\n",
    "    ksai=1\n",
    "    ksa[0]=9\n",
    "    if sgroup[0:8] == 'hpcsched':\n",
    "        for k in range(0,len(sgroup)):\n",
    "            if sgroup[k] == '_':\n",
    "                    ksa[ksai]=k\n",
    "                    ksai=ksai+1\n",
    "        ngroup=sgroup[ksa[ksai-1]+1:len(sgroup)]\n",
    "        newstordat.loc[j,'group']=ngroup\n",
    "\n",
    "\n",
    "    #if first 6 character fstore\n",
    "    elif sgroup[0:6] == 'fstore': \n",
    "        ksai=1\n",
    "        ksa[0]=7\n",
    "        for k in range(0,len(sgroup)):\n",
    "            #print(sgroup[k])\n",
    "            if sgroup[k] == '_':\n",
    "                    ksa[ksai]=k\n",
    "                    ksai=ksai+1\n",
    "        ngroup=sgroup[ksa[1]+1:ksa[2]-1]\n",
    "        newstordat.loc[j,'group']=ngroup\n",
    "\n",
    "\n",
    "    #if first 3 character hpc\n",
    "    #print(sgroup[0:3])\n",
    "    elif sgroup[0:3] == 'hpc':\n",
    "        ksai=1\n",
    "        ksa[0]=4\n",
    "        ksai=0\n",
    "        for k in range(3,len(sgroup)):\n",
    "            #print(sgroup[k])\n",
    "            if sgroup[k] == '_':\n",
    "                    ksa[ksai]=k\n",
    "                    ksai=ksai+1\n",
    "        ngroup=sgroup[ksa[0]+1:len(sgroup)]\n",
    "        newstordat.loc[j,'group']=ngroup\n",
    "        \n",
    "        \n",
    "print(newstordat)\n"
   ]
  },
  {
   "cell_type": "code",
   "execution_count": 12,
   "metadata": {},
   "outputs": [],
   "source": [
    "\n",
    "\n",
    "g = Graph()\n",
    "\n",
    "# Create an identifier to use as the subject for Donna.\n",
    "resit = BNode(RDF.about)"
   ]
  },
  {
   "cell_type": "code",
   "execution_count": 28,
   "metadata": {},
   "outputs": [],
   "source": [
    "#n=Namespace()\n",
    "\n",
    "\n",
    "\n",
    "\n",
    "#n = Namespace(\"http://rcg.group.shef.ac.uk/resitowl/resit#\")\n",
    "#n.hpcs # as attribute\n",
    "# = rdflib.term.URIRef(u'http://example.org/Person')\n",
    "\n",
    "#n['first%20name'] # as item - for things that are not valid python identifiers\n",
    "# = rdflib.term.URIRef(u'http://example.org/first%20name')\n",
    "\n",
    "#Rgrit = rdflib.Graph()\n",
    "#Rgrit.parse('resit.ttl', format='turtle')\n",
    "\n",
    "#RIT=Namespace('rit:')\n",
    "#RIT.hpcs=rdflib.term.URIRef(u'http://rcg.group.shef.ac.uk/resitowl/resit#hpcs')\n",
    "\n",
    "#RIT['rit'] # as item - for things that are not valid python identifiers\n",
    "# = rdflib.term.URIRef(u'http://example.org/first%20name')\n",
    "from rdflib.namespace import Namespace, NamespaceManager\n",
    "from rdflib.namespace import RDF, FOAF\n",
    "\n",
    "RIT = Namespace('http://rcg.group.shef.ac.uk/resitowl/resit#')\n",
    "namespace_manager = NamespaceManager(Graph())\n",
    "namespace_manager.bind('rit', RIT, override=False)\n",
    "#RRIT.hpcs=rdflib.term.URIRef(u'http://rcg.group.shef.ac.uk/resitowl/resit#hpcs')\n",
    "FOAF.person\n",
    "\n",
    "#RIT.hpcs\n",
    "\n",
    "#s = grit.serialize(format='n3')\n",
    "#print(s)\n",
    "\n",
    "#Rprint(grit.serialize().decode())\n",
    "#add a node defined by the URIRef\n",
    "resit2=rdflib.term.URIRef('http://rcg.group.shef.ac.uk/resitowl/resit#resit2')\n"
   ]
  },
  {
   "cell_type": "code",
   "execution_count": 5,
   "metadata": {},
   "outputs": [
    {
     "ename": "NameError",
     "evalue": "name 'grit' is not defined",
     "output_type": "error",
     "traceback": [
      "\u001b[0;31m---------------------------------------------------------------------------\u001b[0m",
      "\u001b[0;31mNameError\u001b[0m                                 Traceback (most recent call last)",
      "\u001b[0;32m<ipython-input-5-c3cfae64c6e0>\u001b[0m in \u001b[0;36m<module>\u001b[0;34m\u001b[0m\n\u001b[0;32m----> 1\u001b[0;31m \u001b[0mprint\u001b[0m\u001b[0;34m(\u001b[0m\u001b[0mgrit\u001b[0m\u001b[0;34m.\u001b[0m\u001b[0mobjects\u001b[0m\u001b[0;34m(\u001b[0m\u001b[0;34m'rit.hpcs'\u001b[0m\u001b[0;34m)\u001b[0m\u001b[0;34m)\u001b[0m\u001b[0;34m\u001b[0m\u001b[0;34m\u001b[0m\u001b[0m\n\u001b[0m",
      "\u001b[0;31mNameError\u001b[0m: name 'grit' is not defined"
     ]
    }
   ],
   "source": [
    "print(grit.objects('rit.hpcs'))"
   ]
  },
  {
   "cell_type": "code",
   "execution_count": 29,
   "metadata": {},
   "outputs": [],
   "source": [
    "# Add triples using store's add method.\n",
    "g.add( (resit, RDF.type, FOAF.Person) )\n",
    "g.add( (resit, FOAF.name, Literal(\"Donna Fales\")) )\n",
    "g.add((resit,RDF.type,URIRef(\"http://rcg.group.shef.ac.uk/resitowl/resit#isa\")))\n",
    "g.add((resit,RDF.type,URIRef(\"http://rcg.group.shef.ac.uk/resitowl/resit#ismemberof\")))\n",
    "g.add( (resit, FOAF.nick, Literal(\"donna\", lang=\"foo\")) )\n",
    "g.add( (resit, FOAF.name, Literal(\"Donna Fales\")) )\n",
    "g.add( (resit, FOAF.mbox, URIRef(\"mailto:donna@example.org\")) )\n",
    "\n",
    "g.add((resit,RIT.isa,URIRef(\"http://rcg.group.shef.ac.uk/resitowl/resit#hpc\")))\n",
    "g.add( (resit, RIT.hpcs, Literal('iceberg') ) )"
   ]
  },
  {
   "cell_type": "code",
   "execution_count": 30,
   "metadata": {},
   "outputs": [],
   "source": [
    "# Create an identifier to use as the subject for Donna.\n",
    "resit1 = BNode('http://rcg.group.shef.ac.uk/resitowl/resit#sharc')\n",
    "g.add( (resit1, RIT.hpcs, Literal('sharc') ) )\n",
    "g.add((resit1,RIT.isa,URIRef(\"http://rcg.group.shef.ac.uk/resitowl/resit#hpc\")))\n",
    "\n",
    "g.add( (resit2, RIT.hpcs, Literal('sharc2') ) )\n",
    "g.add((resit2,RIT.isa,URIRef(\"http://rcg.group.shef.ac.uk/resitowl/resit#hpc\")))\n"
   ]
  },
  {
   "cell_type": "code",
   "execution_count": 31,
   "metadata": {},
   "outputs": [
    {
     "name": "stdout",
     "output_type": "stream",
     "text": [
      "--- serializing ---\n"
     ]
    }
   ],
   "source": [
    "# Bind a few prefix, namespace pairs for more readable output\n",
    "g.bind(\"dc\", DC)\n",
    "g.bind(\"foaf\", FOAF)\n",
    "g.bind(\"rit\", RIT)\n",
    "\n",
    "print(\"--- serializing ---\")\n",
    "s=g.serialize(format='xml') "
   ]
  },
  {
   "cell_type": "code",
   "execution_count": 32,
   "metadata": {},
   "outputs": [
    {
     "name": "stdout",
     "output_type": "stream",
     "text": [
      "<?xml version=\"1.0\" encoding=\"UTF-8\"?>\n",
      "<rdf:RDF\n",
      "   xmlns:foaf=\"http://xmlns.com/foaf/0.1/\"\n",
      "   xmlns:rdf=\"http://www.w3.org/1999/02/22-rdf-syntax-ns#\"\n",
      "   xmlns:rit=\"http://rcg.group.shef.ac.uk/resitowl/resit#\"\n",
      ">\n",
      "  <rdf:Description rdf:nodeID=\"http://rcg.group.shef.ac.uk/resitowl/resit#sharc\">\n",
      "    <rit:hpcs>sharc</rit:hpcs>\n",
      "    <rit:isa rdf:resource=\"http://rcg.group.shef.ac.uk/resitowl/resit#hpc\"/>\n",
      "  </rdf:Description>\n",
      "  <rdf:Description rdf:nodeID=\"http://www.w3.org/1999/02/22-rdf-syntax-ns#about\">\n",
      "    <foaf:nick xml:lang=\"foo\">donna</foaf:nick>\n",
      "    <rdf:type rdf:resource=\"http://rcg.group.shef.ac.uk/resitowl/resit#ismemberof\"/>\n",
      "    <rit:isa rdf:resource=\"http://rcg.group.shef.ac.uk/resitowl/resit#hpc\"/>\n",
      "    <rdf:type rdf:resource=\"http://rcg.group.shef.ac.uk/resitowl/resit#isa\"/>\n",
      "    <foaf:mbox rdf:resource=\"mailto:donna@example.org\"/>\n",
      "    <rit:hpcs>iceberg</rit:hpcs>\n",
      "    <foaf:name>Donna Fales</foaf:name>\n",
      "    <rdf:type rdf:resource=\"http://xmlns.com/foaf/0.1/Person\"/>\n",
      "  </rdf:Description>\n",
      "  <rdf:Description rdf:about=\"http://rcg.group.shef.ac.uk/resitowl/resit#resit2\">\n",
      "    <rit:hpcs>sharc2</rit:hpcs>\n",
      "    <rit:isa rdf:resource=\"http://rcg.group.shef.ac.uk/resitowl/resit#hpc\"/>\n",
      "  </rdf:Description>\n",
      "</rdf:RDF>\n",
      "\n"
     ]
    }
   ],
   "source": [
    "print(g.serialize().decode())"
   ]
  },
  {
   "cell_type": "code",
   "execution_count": 18,
   "metadata": {},
   "outputs": [],
   "source": [
    "file = open('stor-ritdat.rdf','wb') \n",
    "ss=str(s)\n",
    "file.write(s) \n",
    "\n",
    " \n",
    "file.close() "
   ]
  },
  {
   "cell_type": "code",
   "execution_count": null,
   "metadata": {},
   "outputs": [],
   "source": []
  }
 ],
 "metadata": {
  "kernelspec": {
   "display_name": "Python 3",
   "language": "python",
   "name": "python3"
  },
  "language_info": {
   "codemirror_mode": {
    "name": "ipython",
    "version": 3
   },
   "file_extension": ".py",
   "mimetype": "text/x-python",
   "name": "python",
   "nbconvert_exporter": "python",
   "pygments_lexer": "ipython3",
   "version": "3.7.3"
  }
 },
 "nbformat": 4,
 "nbformat_minor": 2
}
