{
 "cells": [
  {
   "cell_type": "code",
   "execution_count": 1,
   "metadata": {},
   "outputs": [],
   "source": [
    "import rdflib\n",
    "import sys\n",
    "import os\n",
    "\n",
    "\n",
    "\n",
    "import owlrl"
   ]
  },
  {
   "cell_type": "code",
   "execution_count": 6,
   "metadata": {},
   "outputs": [],
   "source": [
    "g = rdflib.Graph()\n",
    "try:\n",
    "    #g.parse('foaf-def.rdf')\n",
    "    g.parse('foaf-example.rdf')\n",
    "except FileNotFoundError:\n",
    "    # This test might be run from the parent directory root\n",
    "    print('file not found trying something else!')\n",
    "    g.parse('resit-rdfowl/resit.ttl', format='turtle')"
   ]
  },
  {
   "cell_type": "code",
   "execution_count": 7,
   "metadata": {},
   "outputs": [
    {
     "name": "stdout",
     "output_type": "stream",
     "text": [
      "b'@prefix cc: <http://creativecommons.org/ns#> .\\n@prefix con: <http://www.w3.org/2000/10/swap/pim/contact#> .\\n@prefix dc: <http://purl.org/dc/elements/1.1/> .\\n@prefix foaf: <http://xmlns.com/foaf/0.1/> .\\n@prefix geo: <http://www.w3.org/2003/01/geo/wgs84_pos#> .\\n@prefix owl: <http://www.w3.org/2002/07/owl#> .\\n@prefix rdf: <http://www.w3.org/1999/02/22-rdf-syntax-ns#> .\\n@prefix rdfs: <http://www.w3.org/2000/01/rdf-schema#> .\\n@prefix xml: <http://www.w3.org/XML/1998/namespace> .\\n@prefix xsd: <http://www.w3.org/2001/XMLSchema#> .\\n\\n<http://dig.csail.mit.edu/2007/01/camp/data#course> foaf:maker <http://www.w3.org/People/Berners-Lee/card#i> .\\n\\n<http://dig.csail.mit.edu/2008/webdav/timbl/foaf.rdf> a foaf:PersonalProfileDocument ;\\n    cc:license <http://creativecommons.org/licenses/by-nc/3.0/> ;\\n    dc:title \"Tim Berners-Lee\\'s FOAF file\" ;\\n    foaf:maker <http://www.w3.org/People/Berners-Lee/card#i> ;\\n    foaf:primaryTopic <http://www.w3.org/People/Berners-Lee/card#i> .\\n\\n<http://dig.csail.mit.edu/2008/webdav/timbl/foaf.rdf#dj> a foaf:Person ;\\n    rdfs:seeAlso <http://www.grorg.org/dean/foaf.rdf> ;\\n    foaf:homepage <http://www.grorg.org/dean/> ;\\n    foaf:mbox <mailto:dean@w3.org>,\\n        <mailto:dino@grorg.org> ;\\n    foaf:mbox_sha1sum \"6de4ff27ef927b9ba21ccc88257e41a2d7e7d293\" ;\\n    foaf:name \"Dean Jackson\" .\\n\\n<http://dig.csail.mit.edu/breadcrumbs/blog/4> dc:title \"timbl\\'s blog\" ;\\n    rdfs:seeAlso <http://dig.csail.mit.edu/breadcrumbs/blog/feed/4> ;\\n    foaf:maker <http://www.w3.org/People/Berners-Lee/card#i> .\\n\\n<http://dig.csail.mit.edu/data#DIG> foaf:member <http://www.w3.org/People/Berners-Lee/card#i> .\\n\\n<http://my.opera.com/danbri/xml/foaf#me> rdfs:seeAlso <http://danbri.livejournal.com/data/foaf> ;\\n    owl:sameAs <http://danbri.org/foaf.rdf#danbri>,\\n        <http://www4.wiwiss.fu-berlin.de/dblp/resource/person/336851> ;\\n    foaf:mbox_sha1sum \"70c053d15de49ff03a1bcc374e4119b40798a66e\" .\\n\\n<http://wiki.ontoworld.org/index.php/_IRW2006> dc:title \"Identity, Reference and the Web workshop 2006\" ;\\n    con:participant <http://www.w3.org/People/Berners-Lee/card#i> .\\n\\n<http://www.ecs.soton.ac.uk/~dt2/dlstuff/www2006_data#panel-panelk01> rdfs:label \"The Next Wave of the Web (Plenary Panel)\" ;\\n    con:participant <http://www.w3.org/People/Berners-Lee/card#i> .\\n\\n<http://www.w3.org/data#W3C> rdfs:label \"W3C\" ;\\n    rdfs:seeAlso <http://dig.csail.mit.edu/2008/2002/01/tr-automation/tr.rdf> ;\\n    con:publicHomePage <http://www.w3.org/> ;\\n    foaf:homepage <http://dig.csail.mit.edu/2008/> ;\\n    foaf:logo <http://dig.csail.mit.edu/2008/Icons/w3c_home> ;\\n    foaf:name \"World Wide Web Consortium\" .\\n\\n<http://www4.wiwiss.fu-berlin.de/booksMeshup/books/006251587X> dc:creator <http://www.w3.org/People/Berners-Lee/card#i> ;\\n    dc:title \"Weaving the Web: The Original Design and Ultimate Destiny of the World Wide Web\" .\\n\\n<http://bblfish.net/people/henry/card#me> foaf:name \"Henry Story\" .\\n\\n<http://dbpedia.org/resource/John_Gage> a foaf:Person ;\\n    foaf:img <http://upload.wikimedia.org/wikipedia/commons/d/de/John_Gage.jpg> ;\\n    foaf:name \"John Gage\" .\\n\\n<http://dbpedia.org/resource/John_Klensin> a foaf:Person ;\\n    foaf:name \"John Klensin\" .\\n\\n<http://dbpedia.org/resource/John_Markoff> a foaf:Person ;\\n    foaf:name \"John Markoff\" .\\n\\n<http://dbpedia.org/resource/John_Seely_Brown> a foaf:Person ;\\n    owl:sameAs <http://www4.wiwiss.fu-berlin.de/bookmashup/persons/John+Seely+Brown> ;\\n    foaf:homepage <http://www.johnseelybrown.com/> ;\\n    foaf:img <http://transliteracies.english.ucsb.edu/images/participants/t/brown-john-seely-2.jpg> ;\\n    foaf:name \"John Seely Brown\" .\\n\\n<http://dbpedia.org/resource/Tim_Bray> a foaf:Person ;\\n    foaf:name \"Tim Bray\" .\\n\\n<http://dig.csail.mit.edu/2007/wiki/people/JoeLambda#JL> foaf:firstName \"Joe\" ;\\n    foaf:name \"Joe Lambda\" .\\n\\n<http://dig.csail.mit.edu/2007/wiki/people/RobertHoffmann#RMH> a foaf:Person ;\\n    foaf:name \"Robert Hoffmann\" .\\n\\n<http://dig.csail.mit.edu/2008/2002/01/tr-automation/tr.rdf> dc:title \"W3C Standards and Technical Reports\" .\\n\\n<http://dig.csail.mit.edu/2008/webdav/timbl/foaf.rdf#cm> a foaf:Person ;\\n    rdfs:seeAlso <http://www.koalie.net/foaf.rdf> ;\\n    foaf:name \"Coralie Mercier\" .\\n\\n<http://dig.csail.mit.edu/2008/webdav/timbl/foaf.rdf#edd> a foaf:Person ;\\n    rdfs:seeAlso <http://heddley.com/edd/foaf.rdf> ;\\n    foaf:homepage <http://heddley.com/edd/> ;\\n    foaf:mbox <mailto:edd@usefulinc.com>,\\n        <mailto:edd@xml.com>,\\n        <mailto:edd@xmlhack.com> ;\\n    foaf:name \"Edd Dumbill\" ;\\n    foaf:nick \"edd\" .\\n\\n<http://dig.csail.mit.edu/2008/webdav/timbl/foaf.rdf#libby> a foaf:Person ;\\n    owl:sameAs <http://swordfish.rdfweb.org/people/libby/rdfweb/webwho.xrdf#me> ;\\n    foaf:img <http://swordfish.rdfweb.org/~libby/libby.jpg> ;\\n    foaf:mbox <mailto:libby.miller@bristol.ac.uk> ;\\n    foaf:name \"Libby Miller\" .\\n\\n<http://dig.csail.mit.edu/2008/webdav/timbl/foaf.rdf#ss> foaf:name \"Susie Stephens\" ;\\n    foaf:organization <http://dbpedia.org/resource/Eli_Lilly_and_Company> .\\n\\n<http://eikeon.com/foaf.rdf#eikeon> foaf:name \"Daniel Krech\" .\\n\\n<http://hometown.aol.com/chbussler/foaf/chbussler.foaf#me> foaf:name \"Christoph Bussler\" .\\n\\n<http://id.ecs.soton.ac.uk/person/1269> foaf:name \"Nicholas Gibbins\" .\\n\\n<http://id.ecs.soton.ac.uk/person/1650> foaf:name \"Wendy Hall\" .\\n\\n<http://id.ecs.soton.ac.uk/person/2686> foaf:name \"Nigel Shadbolt\" .\\n\\n<http://id.ecs.soton.ac.uk/person/60> foaf:name \"Les Carr\" .\\n\\n<http://inamidst.com/sbp/foaf#Sean> a foaf:Person ;\\n    foaf:name \"Sean Palmer\" .\\n\\n<http://my.opera.com/chaals/xml/foaf#me> foaf:name \"Charles McCathieNevile\" .\\n\\n<http://my.opera.com/howcome/xml/foaf#howcome> foaf:name \"H\\xc3\\xa5kon Wium Lie\" .\\n\\n<http://myopenlink.net/dataspace/person/kidehen#this> a foaf:Person ;\\n    foaf:name \"Kingsley Idehen\" .\\n\\n<http://norman.walsh.name/knows/who#norman-walsh> a foaf:Person ;\\n    foaf:name \"Norman Walsh\" .\\n\\n<http://people.apache.org/~oshani/foaf.rdf#me> foaf:name \"Oshani Seneviratne\" .\\n\\n<http://people.csail.mit.edu/lkagal/foaf#me> a foaf:Person ;\\n    foaf:mailbox <mailto:lalana@csail.mit.edu> ;\\n    foaf:name \"Lalana Kagal\" .\\n\\n<http://people.csail.mit.edu/psz/foaf.rdf#me> foaf:name \"Peter Szolovits\" .\\n\\n<http://people.w3.org/simon/foaf#i> a foaf:Person ;\\n    foaf:name \"Simon J. Hernandez\" .\\n\\n<http://qdos.com/people/tom.xrdf#me> a foaf:Person ;\\n    foaf:name \"Tom Ilube\" .\\n\\n<http://research.microsoft.com/~henrikn/foaf.xml#me> foaf:name \"Henrik Nielsen\" .\\n\\n<http://rit.mellon.org/Members/ihf/foaf.rdf#me> a foaf:Person ;\\n    foaf:homepage <http://www.mellon.org/about_foundation/staff/program-area-staff/irafuchs> ;\\n    foaf:img <http://www.sun.com/products-n-solutions/edu/images/jelc/fuchs.jpg> ;\\n    foaf:name \"Ira Fuchs\" .\\n\\n<http://teole.jfouffa.org/People/Teole/card.rdf#me> foaf:name \"Philippe Le H\\xc3\\xa9garet\" .\\n\\n<http://users.ecs.soton.ac.uk/mc/mcfoaf.rdf#me> foaf:name \"mc schraefel\" .\\n\\n<http://web.mit.edu/shinnyih/foaf.rdf#> foaf:name \"Shinnyih Huang\" .\\n\\n<http://www.aaronsw.com/about.xrdf#aaronsw> a foaf:Person ;\\n    rdfs:seeAlso <http://www.aaronsw.com/about.xrdf> ;\\n    foaf:mbox <mailto:me@aaronsw.com> ;\\n    foaf:name \"Aaron Swartz\" .\\n\\n<http://www.cambridgesemantics.com/people/about/lee> foaf:name \"Lee Feigenbaum\" .\\n\\n<http://www.cs.umd.edu/~hendler/2003/foaf.rdf#jhendler> foaf:name \"Jim Hendler\" .\\n\\n<http://www.dajobe.org/foaf.rdf#i> a foaf:Person ;\\n    foaf:mailbox <mailto:dave@dajobe.org> ;\\n    foaf:name \"Dave Beckett\" .\\n\\n<http://www.isi.edu/~gil/foaf.rdf#me> a foaf:Person ;\\n    foaf:name \"Yolanda Gill\" .\\n\\n<http://www.ivan-herman.net/foaf.rdf#me> foaf:mbox_sha1sum \"5ac8032d5f6012aa1775ea2f63e1676bafd5e80b\",\\n        \"c21b7ed00d78a35efcd8e567f8fd9cca71058c5\",\\n        \"eccd01ba8ce2391a439e9b052a9fbf37eae9f732\" ;\\n    foaf:name \"Ivan Herman\" .\\n\\n<http://www.kjetil.kjernsmo.net/foaf#me> foaf:name \"Kjetil Kjernsmo\" .\\n\\n<http://www.lassila.org/ora.rdf#me> foaf:name \"Ora Lassila\" .\\n\\n<http://www.mindswap.org/2004/owl/mindswappers#Bijan.Parsia> foaf:name \"Bijan Parsia\" .\\n\\n<http://www.mindswap.org/2004/owl/mindswappers#Jennifer.Golbeck> foaf:name \"Jennifer Golbeck\" .\\n\\n<http://www.w3.org/People/Berners-Lee/card#amy> a foaf:Person ;\\n    rdfs:label \"Amy van der Hiel\" ;\\n    rdfs:seeAlso <http://people.w3.org/amy/foaf.rdf> ;\\n    con:familyName \"van der Hiel\" ;\\n    con:givenName \"Amy\" ;\\n    foaf:mbox <mailto:amy@w3.org> ;\\n    foaf:mbox_sha1sum \"1839a1cc2e719a85ea7d9007f587b2899cd94064\" ;\\n    foaf:name \"Amy van der Hiel\" .\\n\\n<http://www.w3.org/People/Connolly/#me> a foaf:Person ;\\n    rdfs:seeAlso <http://www.w3.org/People/Connolly/home-smart.rdf> ;\\n    foaf:mbox <mailto:connolly@w3.org> ;\\n    foaf:name \"Dan Connolly\" ;\\n    foaf:nick \"DanCon\" .\\n\\n<http://www.w3.org/People/EM/contact#me> a foaf:Person ;\\n    rdfs:seeAlso <http://www.w3.org/People/EM/contact> ;\\n    foaf:homepage <http://purl.org/net/eric/> ;\\n    foaf:img <http://www.ilrt.bristol.ac.uk/people/cmdjb/events/dc7/orig/eric.png>,\\n        <http://www.oclc.org/~emiller/capture.jpg> ;\\n    foaf:mbox <mailto:em@w3.org> ;\\n    foaf:name \"Eric Miller\" .\\n\\n<http://www.w3.org/People/Jacobs/contact.rdf#IanJacobs> foaf:name \"Ian Jacobs\" .\\n\\n<http://www.w3.org/People/djweitzner/foaf#DJW> a foaf:Person ;\\n    foaf:mbox_sha1sum \"032c319f439f63efba54f4fa51bfb3a3fafedfbe\" ;\\n    foaf:name \"Daniel J Weitzner\" .\\n\\n<http://www.w3.org/People/karl/karl-foaf.xrdf#me> rdfs:seeAlso <http://www.w3.org/People/karl/karl-foaf.xrdf> ;\\n    foaf:mbox <mailto:karl@w3.org> ;\\n    foaf:name \"Karl Dubost\" .\\n\\n<http://www.w3.org/People/Berners-Lee/card#i> a foaf:Person ;\\n    foaf:img <http://www.w3.org/Press/Stock/Berners-Lee/2001-europaeum-eighth.jpg> ;\\n    foaf:knows [ a foaf:Person ;\\n            rdfs:seeAlso <http://dannyayers.com/me.rdf> ;\\n            foaf:mbox_sha1sum \"669fe353dbef63d12ba11f69ace8acbec1ac8b17\" ;\\n            foaf:name \"Danny Ayers\" ],\\n        <http://bblfish.net/people/henry/card#me>,\\n        <http://danbri.org/foaf#danbri>,\\n        <http://dbpedia.org/resource/John_Gage>,\\n        <http://dbpedia.org/resource/John_Klensin>,\\n        <http://dbpedia.org/resource/John_Markoff>,\\n        <http://dbpedia.org/resource/John_Seely_Brown>,\\n        <http://dbpedia.org/resource/Tim_Bray>,\\n        <http://dig.csail.mit.edu/2007/wiki/people/JoeLambda#JL>,\\n        <http://dig.csail.mit.edu/2007/wiki/people/RobertHoffmann#RMH>,\\n        <http://dig.csail.mit.edu/2008/webdav/timbl/foaf.rdf#cm>,\\n        <http://dig.csail.mit.edu/2008/webdav/timbl/foaf.rdf#edd>,\\n        <http://dig.csail.mit.edu/2008/webdav/timbl/foaf.rdf#libby>,\\n        <http://dig.csail.mit.edu/2008/webdav/timbl/foaf.rdf#ss>,\\n        <http://dig.csail.mit.edu/People/RRS>,\\n        <http://dig.csail.mit.edu/People/yosi#YES>,\\n        <http://eikeon.com/foaf.rdf#eikeon>,\\n        <http://heddley.com/edd/foaf.rdf#edd>,\\n        <http://hometown.aol.com/chbussler/foaf/chbussler.foaf#me>,\\n        <http://id.ecs.soton.ac.uk/person/1269>,\\n        <http://id.ecs.soton.ac.uk/person/1650>,\\n        <http://id.ecs.soton.ac.uk/person/2686>,\\n        <http://id.ecs.soton.ac.uk/person/60>,\\n        <http://inamidst.com/sbp/foaf#Sean>,\\n        <http://my.opera.com/chaals/xml/foaf#me>,\\n        <http://my.opera.com/howcome/xml/foaf#howcome>,\\n        <http://myopenlink.net/dataspace/person/kidehen#this>,\\n        <http://norman.walsh.name/knows/who#norman-walsh>,\\n        <http://people.apache.org/~oshani/foaf.rdf#me>,\\n        <http://people.csail.mit.edu/crowell/foaf.rdf#crowell>,\\n        <http://people.csail.mit.edu/lkagal/foaf#me>,\\n        <http://people.csail.mit.edu/psz/foaf.rdf#me>,\\n        <http://people.csail.mit.edu/ryanlee/about#ryanlee>,\\n        <http://people.w3.org/simon/foaf#i>,\\n        <http://presbrey.mit.edu/foaf.rdf#presbrey>,\\n        <http://qdos.com/people/tom.xrdf#me>,\\n        <http://research.microsoft.com/~henrikn/foaf.xml#me>,\\n        <http://rit.mellon.org/Members/ihf/foaf.rdf#me>,\\n        <http://teole.jfouffa.org/People/Teole/card.rdf#me>,\\n        <http://users.ecs.soton.ac.uk/mc/mcfoaf.rdf#me>,\\n        <http://web.mit.edu/ruthdhan/www/foaf.rdf#ruthdhan>,\\n        <http://web.mit.edu/shinnyih/foaf.rdf#>,\\n        <http://www.aaronsw.com/about.xrdf#aaronsw>,\\n        <http://www.cambridgesemantics.com/people/about/lee>,\\n        <http://www.cs.umd.edu/~hendler/2003/foaf.rdf#jhendler>,\\n        <http://www.dajobe.org/foaf.rdf#i>,\\n        <http://www.isi.edu/~gil/foaf.rdf#me>,\\n        <http://www.ivan-herman.net/foaf.rdf#me>,\\n        <http://www.kjetil.kjernsmo.net/foaf#me>,\\n        <http://www.lassila.org/ora.rdf#me>,\\n        <http://www.mindswap.org/2004/owl/mindswappers#Bijan.Parsia>,\\n        <http://www.mindswap.org/2004/owl/mindswappers#Jennifer.Golbeck>,\\n        <http://www.w3.org/People/Berners-Lee/card#amy>,\\n        <http://www.w3.org/People/Connolly/#me>,\\n        <http://www.w3.org/People/EM/contact#me>,\\n        <http://www.w3.org/People/Jacobs/contact.rdf#IanJacobs>,\\n        <http://www.w3.org/People/djweitzner/foaf#DJW>,\\n        <http://www.w3.org/People/karl/karl-foaf.xrdf#me> ;\\n    foaf:name \"Tim Berners-Lee\" .\\n\\n'\n"
     ]
    }
   ],
   "source": [
    "#print Grapher.serialize(format='application/rdf+xml')\n",
    "s = g.serialize(format='turtle')\n",
    "print(s)"
   ]
  },
  {
   "cell_type": "code",
   "execution_count": 8,
   "metadata": {},
   "outputs": [],
   "source": [
    "#file = open('foaf-def.ttl','wb') \n",
    "file = open('foaf-example.ttl','wb') \n",
    "ss=str(s)\n",
    "file.write(s) \n",
    "\n",
    " \n",
    "file.close() "
   ]
  },
  {
   "cell_type": "code",
   "execution_count": null,
   "metadata": {},
   "outputs": [],
   "source": []
  }
 ],
 "metadata": {
  "kernelspec": {
   "display_name": "Python 3",
   "language": "python",
   "name": "python3"
  },
  "language_info": {
   "codemirror_mode": {
    "name": "ipython",
    "version": 3
   },
   "file_extension": ".py",
   "mimetype": "text/x-python",
   "name": "python",
   "nbconvert_exporter": "python",
   "pygments_lexer": "ipython3",
   "version": "3.7.3"
  }
 },
 "nbformat": 4,
 "nbformat_minor": 2
}
