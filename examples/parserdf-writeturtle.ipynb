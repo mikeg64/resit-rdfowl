{
 "cells": [
  {
   "cell_type": "code",
   "execution_count": 6,
   "metadata": {},
   "outputs": [],
   "source": [
    "import rdflib\n",
    "import sys\n",
    "import os\n",
    "\n",
    "\n",
    "\n",
    "import owlrl"
   ]
  },
  {
   "cell_type": "code",
   "execution_count": 7,
   "metadata": {},
   "outputs": [],
   "source": [
    "g = rdflib.Graph()\n",
    "try:\n",
    "    #g.parse('foaf-def.rdf')\n",
    "    #g.parse('foaf-example.rdf')\n",
    "    #g.parse('pizza.owl')\n",
    "    g.parse('resitfile.rdf')\n",
    "except FileNotFoundError:\n",
    "    # This test might be run from the parent directory root\n",
    "    print('file not found trying something else!')\n",
    "    g.parse('resit-rdfowl/resit.ttl', format='turtle')"
   ]
  },
  {
   "cell_type": "code",
   "execution_count": 8,
   "metadata": {},
   "outputs": [
    {
     "name": "stdout",
     "output_type": "stream",
     "text": [
      "b'@prefix rdf: <http://www.w3.org/1999/02/22-rdf-syntax-ns#> .\\n@prefix rdfs: <http://www.w3.org/2000/01/rdf-schema#> .\\n@prefix xml: <http://www.w3.org/XML/1998/namespace> .\\n@prefix xsd: <http://www.w3.org/2001/XMLSchema#> .\\n\\n<http://rcg.group.shef.ac.uk/resitowl/resit#> a <http://www.w3.org/2002/07/owl#Ontology> .\\n\\n<http://rcg.group.shef.ac.uk/resitowl/resit#assuredcomputing> a <http://www.w3.org/2002/07/owl#Class> ;\\n    rdfs:label \"assuredcomputing\" ;\\n    rdfs:subClassOf <http://rcg.group.shef.ac.uk/resitowl/resit>,\\n        <http://rcg.group.shef.ac.uk/resitowl/resit#service> .\\n\\n<http://rcg.group.shef.ac.uk/resitowl/resit#hasa> a <http://www.w3.org/2002/07/owl#ObjectProperty> ;\\n    rdfs:label \"hasa\" ;\\n    rdfs:subPropertyOf <http://www.w3.org/2002/07/owl#topObjectProperty> .\\n\\n<http://rcg.group.shef.ac.uk/resitowl/resit#hasaccessto> a <http://www.w3.org/2002/07/owl#ObjectProperty> ;\\n    rdfs:label \"hasaccessto\" ;\\n    rdfs:subPropertyOf <http://www.w3.org/2002/07/owl#topObjectProperty> .\\n\\n<http://rcg.group.shef.ac.uk/resitowl/resit#hascompleted> a <http://www.w3.org/2002/07/owl#ObjectProperty> ;\\n    rdfs:label \"hascompleted\" ;\\n    rdfs:subPropertyOf <http://www.w3.org/2002/07/owl#topObjectProperty> .\\n\\n<http://rcg.group.shef.ac.uk/resitowl/resit#hpc> a <http://www.w3.org/2002/07/owl#Class> ;\\n    rdfs:label \"hpc\" ;\\n    rdfs:subClassOf <http://rcg.group.shef.ac.uk/resitowl/resit>,\\n        <http://rcg.group.shef.ac.uk/resitowl/resit#system> .\\n\\n<http://rcg.group.shef.ac.uk/resitowl/resit#hpcs> a <http://www.w3.org/2002/07/owl#Class> ;\\n    rdfs:subClassOf <http://rcg.group.shef.ac.uk/resitowl/resit>,\\n        <http://rcg.group.shef.ac.uk/resitowl/resit#service> .\\n\\n<http://rcg.group.shef.ac.uk/resitowl/resit#isa> a <http://www.w3.org/2002/07/owl#ObjectProperty> ;\\n    rdfs:label \"isa\" ;\\n    rdfs:subPropertyOf <http://www.w3.org/2002/07/owl#topObjectProperty> .\\n\\n<http://rcg.group.shef.ac.uk/resitowl/resit#ismemberof> a <http://www.w3.org/2002/07/owl#ObjectProperty> ;\\n    rdfs:label \"ismemberof\" ;\\n    rdfs:subPropertyOf <http://www.w3.org/2002/07/owl#topObjectProperty> .\\n\\n<http://rcg.group.shef.ac.uk/resitowl/resit#isprovidedby> a <http://www.w3.org/2002/07/owl#ObjectProperty> ;\\n    rdfs:label \"isprovidedby\" ;\\n    rdfs:subPropertyOf <http://www.w3.org/2002/07/owl#topObjectProperty> .\\n\\n<http://rcg.group.shef.ac.uk/resitowl/resit#project> a <http://www.w3.org/2002/07/owl#Class> ;\\n    rdfs:label \"project\" ;\\n    rdfs:subClassOf <http://rcg.group.shef.ac.uk/resitowl/resit>,\\n        <http://rcg.group.shef.ac.uk/resitowl/resit#feature> .\\n\\n<http://rcg.group.shef.ac.uk/resitowl/resit#rdmp> a <http://www.w3.org/2002/07/owl#Class> ;\\n    rdfs:label \"rdmp\" ;\\n    rdfs:comment \"rdmp is a research data management plan\" ;\\n    rdfs:subClassOf <http://rcg.group.shef.ac.uk/resitowl/resit#feature> .\\n\\n<http://rcg.group.shef.ac.uk/resitowl/resit#researchsoftware> a <http://www.w3.org/2002/07/owl#Class> ;\\n    rdfs:label \"researchsoftware\" ;\\n    rdfs:subClassOf <http://rcg.group.shef.ac.uk/resitowl/resit>,\\n        <http://rcg.group.shef.ac.uk/resitowl/resit#service> .\\n\\n<http://rcg.group.shef.ac.uk/resitowl/resit#researchstorage> a <http://www.w3.org/2002/07/owl#Class> ;\\n    rdfs:label \"researchstorage\" ;\\n    rdfs:subClassOf <http://rcg.group.shef.ac.uk/resitowl/resit>,\\n        <http://rcg.group.shef.ac.uk/resitowl/resit#service> .\\n\\n<http://rcg.group.shef.ac.uk/resitowl/resit#researchsupport> a <http://www.w3.org/2002/07/owl#Class> ;\\n    rdfs:label \"researchsupport\" ;\\n    rdfs:subClassOf <http://rcg.group.shef.ac.uk/resitowl/resit>,\\n        <http://rcg.group.shef.ac.uk/resitowl/resit#service> .\\n\\n<http://rcg.group.shef.ac.uk/resitowl/resit#researchvm> a <http://www.w3.org/2002/07/owl#Class> ;\\n    rdfs:label \"researchvm\" ;\\n    rdfs:subClassOf <http://rcg.group.shef.ac.uk/resitowl/resit>,\\n        <http://rcg.group.shef.ac.uk/resitowl/resit#service> .\\n\\n<http://rcg.group.shef.ac.uk/resitowl/resit#researchvminstance> a <http://www.w3.org/2002/07/owl#Class> ;\\n    rdfs:label \"researchvminstance\" ;\\n    rdfs:subClassOf <http://rcg.group.shef.ac.uk/resitowl/resit> .\\n\\n<http://rcg.group.shef.ac.uk/resitowl/resit#status> a <http://www.w3.org/2002/07/owl#Class> ;\\n    rdfs:label \"status\" ;\\n    rdfs:comment \"Status e.g of a project can be Live, retired, Application, Completed, Not started etc....\" ;\\n    rdfs:subClassOf <http://rcg.group.shef.ac.uk/resitowl/resit#feature> .\\n\\n<http://rcg.group.shef.ac.uk/resitowl/resit#storage> a <http://www.w3.org/2002/07/owl#Class> ;\\n    rdfs:label \"storage\" ;\\n    rdfs:subClassOf <http://rcg.group.shef.ac.uk/resitowl/resit> .\\n\\n<http://rcg.group.shef.ac.uk/resitowl/resit#feature> a <http://www.w3.org/2002/07/owl#Class> ;\\n    rdfs:label \"feature\" ;\\n    rdfs:subClassOf <http://rcg.group.shef.ac.uk/resitowl/resit> .\\n\\n<http://rcg.group.shef.ac.uk/resitowl/resit#service> a <http://www.w3.org/2002/07/owl#Class> ;\\n    rdfs:label \"service\" ;\\n    rdfs:subClassOf <http://rcg.group.shef.ac.uk/resitowl/resit> .\\n\\n<http://rcg.group.shef.ac.uk/resitowl/resit> a <http://www.w3.org/2002/07/owl#Class> .\\n\\n'\n"
     ]
    }
   ],
   "source": [
    "#print Grapher.serialize(format='application/rdf+xml')\n",
    "s = g.serialize(format='turtle')\n",
    "print(s)"
   ]
  },
  {
   "cell_type": "code",
   "execution_count": 9,
   "metadata": {},
   "outputs": [],
   "source": [
    "#file = open('foaf-def.ttl','wb') \n",
    "#file = open('foaf-example.ttl','wb') \n",
    "#file = open('pizza.ttl','wb') \n",
    "file = open('resitfile.ttl','wb') \n",
    "ss=str(s)\n",
    "file.write(s) \n",
    "\n",
    " \n",
    "file.close() "
   ]
  },
  {
   "cell_type": "code",
   "execution_count": null,
   "metadata": {},
   "outputs": [],
   "source": []
  }
 ],
 "metadata": {
  "kernelspec": {
   "display_name": "Python 3",
   "language": "python",
   "name": "python3"
  },
  "language_info": {
   "codemirror_mode": {
    "name": "ipython",
    "version": 3
   },
   "file_extension": ".py",
   "mimetype": "text/x-python",
   "name": "python",
   "nbconvert_exporter": "python",
   "pygments_lexer": "ipython3",
   "version": "3.7.3"
  }
 },
 "nbformat": 4,
 "nbformat_minor": 2
}
