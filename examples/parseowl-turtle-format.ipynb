{
 "cells": [
  {
   "cell_type": "code",
   "execution_count": null,
   "metadata": {},
   "outputs": [],
   "source": []
  },
  {
   "cell_type": "code",
   "execution_count": 14,
   "metadata": {},
   "outputs": [],
   "source": [
    "import rdflib\n",
    "import sys\n",
    "import os\n",
    "\n",
    "\n",
    "\n",
    "import owlrl"
   ]
  },
  {
   "cell_type": "code",
   "execution_count": 43,
   "metadata": {},
   "outputs": [],
   "source": [
    "g = rdflib.Graph()\n",
    "try:\n",
    "    g.parse('resit-example.ttl', format='turtle')\n",
    "    #g.parse('relatives-test.ttl', format='turtle')\n",
    "except FileNotFoundError:\n",
    "    # This test might be run from the parent directory root\n",
    "    print('file not found trying something else!')\n",
    "    g.parse('resit-rdfowl/relatives.ttl', format='turtle')"
   ]
  },
  {
   "cell_type": "code",
   "execution_count": 44,
   "metadata": {},
   "outputs": [
    {
     "name": "stdout",
     "output_type": "stream",
     "text": [
      "b'<?xml version=\"1.0\" encoding=\"UTF-8\"?>\\n<rdf:RDF\\n   xmlns:rdf=\"http://www.w3.org/1999/02/22-rdf-syntax-ns#\"\\n>\\n  <rdf:Description rdf:about=\"http://rcg.group.shef.ac.uk/resitowl/resit#sharc\">\\n    <rdf:type rdf:resource=\"http://rcg.group.shef.ac.uk/resitowl/resit#hpcs\"/>\\n    <rdf:type rdf:resource=\"http://www.w3.org/2002/07/owl#NamedIndividual\"/>\\n  </rdf:Description>\\n  <rdf:Description rdf:about=\"http://rcg.group.shef.ac.uk/resitowl/resit#iceberg\">\\n    <rdf:type rdf:resource=\"http://rcg.group.shef.ac.uk/resitowl/resit#hpcs\"/>\\n    <rdf:type rdf:resource=\"http://www.w3.org/2002/07/owl#NamedIndividual\"/>\\n  </rdf:Description>\\n  <rdf:Description rdf:about=\"http://rcg.group.shef.ac.uk/resitowl/resit#\">\\n    <rdf:type rdf:resource=\"http://www.w3.org/2002/07/owl#Ontology\"/>\\n  </rdf:Description>\\n</rdf:RDF>\\n'\n"
     ]
    }
   ],
   "source": [
    "#print Grapher.serialize(format='application/rdf+xml')\n",
    "s = g.serialize(format='xml')\n",
    "print(s)"
   ]
  },
  {
   "cell_type": "code",
   "execution_count": 45,
   "metadata": {},
   "outputs": [],
   "source": [
    "#file = open('testfile.rdf','wb') \n",
    "file = open('resit-example.rdf','wb') \n",
    "ss=str(s)\n",
    "file.write(s) \n",
    "\n",
    " \n",
    "file.close() "
   ]
  },
  {
   "cell_type": "code",
   "execution_count": 6,
   "metadata": {},
   "outputs": [
    {
     "name": "stdout",
     "output_type": "stream",
     "text": [
      "15\n",
      "<rdflib.plugins.sparql.processor.SPARQLResult object at 0x7f5cfd00ba58>\n"
     ]
    }
   ],
   "source": [
    "# run a simple SPARQL query against it, no inferencing, should find 15 results\n",
    "q = '''\n",
    "    PREFIX : <http://example.org/relatives#>\n",
    "    SELECT (COUNT(?s) AS ?cnt)\n",
    "    WHERE {\n",
    "        ?s a :Person .\n",
    "    }\n",
    "    '''\n",
    "for r in g.query(q):\n",
    "    cnt = int(r[0])\n",
    "    print(cnt)\n",
    "print(g.query(q))"
   ]
  },
  {
   "cell_type": "code",
   "execution_count": null,
   "metadata": {},
   "outputs": [],
   "source": []
  }
 ],
 "metadata": {
  "kernelspec": {
   "display_name": "Python 3",
   "language": "python",
   "name": "python3"
  },
  "language_info": {
   "codemirror_mode": {
    "name": "ipython",
    "version": 3
   },
   "file_extension": ".py",
   "mimetype": "text/x-python",
   "name": "python",
   "nbconvert_exporter": "python",
   "pygments_lexer": "ipython3",
   "version": "3.7.3"
  }
 },
 "nbformat": 4,
 "nbformat_minor": 2
}
