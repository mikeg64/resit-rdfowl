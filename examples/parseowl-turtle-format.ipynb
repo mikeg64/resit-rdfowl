{
 "cells": [
  {
   "cell_type": "code",
   "execution_count": null,
   "metadata": {},
   "outputs": [],
   "source": []
  },
  {
   "cell_type": "code",
   "execution_count": 5,
   "metadata": {},
   "outputs": [],
   "source": [
    "import rdflib\n",
    "import sys\n",
    "import os\n",
    "\n",
    "\n",
    "\n",
    "import owlrl"
   ]
  },
  {
   "cell_type": "code",
   "execution_count": 6,
   "metadata": {},
   "outputs": [],
   "source": [
    "g = rdflib.Graph()\n",
    "try:\n",
    "    g.parse('relatives.ttl', format='turtle')\n",
    "except FileNotFoundError:\n",
    "    # This test might be run from the parent directory root\n",
    "    print('file not found trying something else!')\n",
    "    g.parse('resit-rdfowl/relatives.ttl', format='turtle')"
   ]
  },
  {
   "cell_type": "code",
   "execution_count": 10,
   "metadata": {},
   "outputs": [
    {
     "name": "stdout",
     "output_type": "stream",
     "text": [
      "b'<?xml version=\"1.0\" encoding=\"UTF-8\"?>\\n<rdf:RDF\\n   xmlns=\"http://example.org/relatives#\"\\n   xmlns:owl=\"http://www.w3.org/2002/07/owl#\"\\n   xmlns:rdf=\"http://www.w3.org/1999/02/22-rdf-syntax-ns#\"\\n   xmlns:rdfs=\"http://www.w3.org/2000/01/rdf-schema#\"\\n>\\n  <rdf:Description rdf:about=\"http://example.org/relatives#John\">\\n    <hasChild rdf:resource=\"http://example.org/relatives#Mary\"/>\\n    <hasChild rdf:resource=\"http://example.org/relatives#Michael\"/>\\n    <rdf:type rdf:resource=\"http://www.w3.org/2002/07/owl#NamedIndividual\"/>\\n    <rdf:type rdf:resource=\"http://example.org/relatives#Person\"/>\\n    <hasParent rdf:resource=\"http://example.org/relatives#James2\"/>\\n  </rdf:Description>\\n  <rdf:Description rdf:about=\"http://example.org/relatives#Bob\">\\n    <rdf:type rdf:resource=\"http://www.w3.org/2002/07/owl#NamedIndividual\"/>\\n    <rdf:type rdf:resource=\"http://example.org/relatives#Person\"/>\\n    <hasParent rdf:resource=\"http://example.org/relatives#Bill\"/>\\n  </rdf:Description>\\n  <rdf:Description rdf:about=\"http://example.org/relatives#Cathy\">\\n    <hasParent rdf:resource=\"http://example.org/relatives#Bill\"/>\\n    <rdf:type rdf:resource=\"http://www.w3.org/2002/07/owl#NamedIndividual\"/>\\n    <rdf:type rdf:resource=\"http://example.org/relatives#Person\"/>\\n  </rdf:Description>\\n  <rdf:Description rdf:about=\"http://example.org/relatives#Simon\">\\n    <hasParent rdf:resource=\"http://example.org/relatives#Michael\"/>\\n    <rdf:type rdf:resource=\"http://example.org/relatives#Person\"/>\\n    <rdf:type rdf:resource=\"http://www.w3.org/2002/07/owl#NamedIndividual\"/>\\n  </rdf:Description>\\n  <rdf:Description rdf:about=\"http://example.org/relatives#Tim\">\\n    <rdf:type rdf:resource=\"http://example.org/relatives#Person\"/>\\n    <hasParent rdf:resource=\"http://example.org/relatives#Simon\"/>\\n    <hasParent rdf:resource=\"http://example.org/relatives#Valerie\"/>\\n    <rdf:type rdf:resource=\"http://www.w3.org/2002/07/owl#NamedIndividual\"/>\\n  </rdf:Description>\\n  <rdf:Description rdf:about=\"http://example.org/relatives#hasParent\">\\n    <rdf:type rdf:resource=\"http://www.w3.org/2002/07/owl#ObjectProperty\"/>\\n  </rdf:Description>\\n  <rdf:Description rdf:about=\"http://example.org/relatives#Parent\">\\n    <rdfs:subClassOf rdf:resource=\"http://example.org/relatives#Person\"/>\\n    <rdf:type rdf:resource=\"http://www.w3.org/2002/07/owl#Class\"/>\\n  </rdf:Description>\\n  <rdf:Description rdf:about=\"http://example.org/relatives#James2\">\\n    <rdf:type rdf:resource=\"http://www.w3.org/2002/07/owl#NamedIndividual\"/>\\n    <hasChild rdf:resource=\"http://example.org/relatives#John\"/>\\n    <rdf:type rdf:resource=\"http://example.org/relatives#Person\"/>\\n  </rdf:Description>\\n  <rdf:Description rdf:about=\"http://example.org/relatives#Victor\">\\n    <rdf:type rdf:resource=\"http://www.w3.org/2002/07/owl#NamedIndividual\"/>\\n    <rdf:type rdf:resource=\"http://example.org/relatives#Person\"/>\\n  </rdf:Description>\\n  <rdf:Description rdf:about=\"http://example.org/relatives#Fred\">\\n    <hasChild rdf:resource=\"http://example.org/relatives#James\"/>\\n    <hasParent rdf:resource=\"http://example.org/relatives#Cathy\"/>\\n    <rdf:type rdf:resource=\"http://www.w3.org/2002/07/owl#NamedIndividual\"/>\\n    <rdf:type rdf:resource=\"http://example.org/relatives#Person\"/>\\n  </rdf:Description>\\n  <rdf:Description rdf:about=\"http://example.org/relatives\">\\n    <rdf:type rdf:resource=\"http://www.w3.org/2002/07/owl#Ontology\"/>\\n  </rdf:Description>\\n  <rdf:Description rdf:about=\"http://example.org/relatives#Mary\">\\n    <rdf:type rdf:resource=\"http://example.org/relatives#Person\"/>\\n    <rdf:type rdf:resource=\"http://www.w3.org/2002/07/owl#NamedIndividual\"/>\\n  </rdf:Description>\\n  <rdf:Description rdf:nodeID=\"fb55de996ea394abeb7dd475a38228d0bb2\">\\n    <rdf:rest rdf:resource=\"http://www.w3.org/1999/02/22-rdf-syntax-ns#nil\"/>\\n    <rdf:first rdf:resource=\"http://example.org/relatives#hasParent\"/>\\n  </rdf:Description>\\n  <rdf:Description rdf:about=\"http://example.org/relatives#Ann\">\\n    <rdf:type rdf:resource=\"http://www.w3.org/2002/07/owl#NamedIndividual\"/>\\n    <rdf:type rdf:resource=\"http://example.org/relatives#Person\"/>\\n  </rdf:Description>\\n  <rdf:Description rdf:about=\"http://example.org/relatives#Jacob\">\\n    <hasParent rdf:resource=\"http://example.org/relatives#Fred\"/>\\n    <rdf:type rdf:resource=\"http://example.org/relatives#Person\"/>\\n    <rdf:type rdf:resource=\"http://www.w3.org/2002/07/owl#NamedIndividual\"/>\\n  </rdf:Description>\\n  <rdf:Description rdf:about=\"http://example.org/relatives#hasGrandparent\">\\n    <rdf:type rdf:resource=\"http://www.w3.org/2002/07/owl#ObjectProperty\"/>\\n    <owl:propertyChainAxiom rdf:nodeID=\"fb55de996ea394abeb7dd475a38228d0bb1\"/>\\n  </rdf:Description>\\n  <rdf:Description rdf:about=\"http://example.org/relatives#James\">\\n    <rdf:type rdf:resource=\"http://www.w3.org/2002/07/owl#NamedIndividual\"/>\\n    <rdf:type rdf:resource=\"http://example.org/relatives#Person\"/>\\n  </rdf:Description>\\n  <rdf:Description rdf:about=\"http://example.org/relatives#Michael\">\\n    <hasParent rdf:resource=\"http://example.org/relatives#John\"/>\\n    <rdf:type rdf:resource=\"http://www.w3.org/2002/07/owl#NamedIndividual\"/>\\n    <rdf:type rdf:resource=\"http://example.org/relatives#Person\"/>\\n  </rdf:Description>\\n  <rdf:Description rdf:about=\"http://example.org/relatives#Valerie\">\\n    <rdf:type rdf:resource=\"http://www.w3.org/2002/07/owl#NamedIndividual\"/>\\n    <rdf:type rdf:resource=\"http://example.org/relatives#Person\"/>\\n  </rdf:Description>\\n  <rdf:Description rdf:about=\"http://example.org/relatives#hasChild\">\\n    <rdf:type rdf:resource=\"http://www.w3.org/2002/07/owl#ObjectProperty\"/>\\n    <owl:inverseOf rdf:resource=\"http://example.org/relatives#hasParent\"/>\\n  </rdf:Description>\\n  <rdf:Description rdf:about=\"http://example.org/relatives#Aaron\">\\n    <rdf:type rdf:resource=\"http://www.w3.org/2002/07/owl#NamedIndividual\"/>\\n  </rdf:Description>\\n  <rdf:Description rdf:about=\"http://example.org/relatives#Person\">\\n    <rdf:type rdf:resource=\"http://www.w3.org/2002/07/owl#Class\"/>\\n  </rdf:Description>\\n  <rdf:Description rdf:nodeID=\"fb55de996ea394abeb7dd475a38228d0bb1\">\\n    <rdf:first rdf:resource=\"http://example.org/relatives#hasParent\"/>\\n    <rdf:rest rdf:nodeID=\"fb55de996ea394abeb7dd475a38228d0bb2\"/>\\n  </rdf:Description>\\n  <rdf:Description rdf:about=\"http://example.org/relatives#Child\">\\n    <rdf:type rdf:resource=\"http://www.w3.org/2002/07/owl#Class\"/>\\n    <rdfs:subClassOf rdf:resource=\"http://example.org/relatives#Person\"/>\\n  </rdf:Description>\\n  <rdf:Description rdf:about=\"http://example.org/relatives#Bill\">\\n    <rdf:type rdf:resource=\"http://example.org/relatives#Person\"/>\\n    <rdf:type rdf:resource=\"http://www.w3.org/2002/07/owl#NamedIndividual\"/>\\n  </rdf:Description>\\n</rdf:RDF>\\n'\n"
     ]
    }
   ],
   "source": [
    "#print Grapher.serialize(format='application/rdf+xml')\n",
    "s = g.serialize(format='xml')\n",
    "print(s)"
   ]
  },
  {
   "cell_type": "code",
   "execution_count": 14,
   "metadata": {},
   "outputs": [],
   "source": [
    "file = open('testfile.rdf','wb') \n",
    "ss=str(s)\n",
    "file.write(s) \n",
    "\n",
    " \n",
    "file.close() "
   ]
  },
  {
   "cell_type": "code",
   "execution_count": 6,
   "metadata": {},
   "outputs": [
    {
     "name": "stdout",
     "output_type": "stream",
     "text": [
      "15\n",
      "<rdflib.plugins.sparql.processor.SPARQLResult object at 0x7f5cfd00ba58>\n"
     ]
    }
   ],
   "source": [
    "# run a simple SPARQL query against it, no inferencing, should find 15 results\n",
    "q = '''\n",
    "    PREFIX : <http://example.org/relatives#>\n",
    "    SELECT (COUNT(?s) AS ?cnt)\n",
    "    WHERE {\n",
    "        ?s a :Person .\n",
    "    }\n",
    "    '''\n",
    "for r in g.query(q):\n",
    "    cnt = int(r[0])\n",
    "    print(cnt)\n",
    "print(g.query(q))"
   ]
  },
  {
   "cell_type": "code",
   "execution_count": null,
   "metadata": {},
   "outputs": [],
   "source": []
  }
 ],
 "metadata": {
  "kernelspec": {
   "display_name": "Python 3",
   "language": "python",
   "name": "python3"
  },
  "language_info": {
   "codemirror_mode": {
    "name": "ipython",
    "version": 3
   },
   "file_extension": ".py",
   "mimetype": "text/x-python",
   "name": "python",
   "nbconvert_exporter": "python",
   "pygments_lexer": "ipython3",
   "version": "3.7.3"
  }
 },
 "nbformat": 4,
 "nbformat_minor": 2
}
